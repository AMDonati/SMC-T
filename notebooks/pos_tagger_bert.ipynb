{
 "cells": [
  {
   "cell_type": "markdown",
   "metadata": {
    "nbpresent": {
     "id": "2b1b350c-5a3c-434c-bcb2-0672625d154d"
    }
   },
   "source": [
    "# NATURAL LANGUAGE PROCESSING WITH TRANSFORMERS\n",
    "# Α Pos Tagger trained on UD treebank with fine-tuning a BERT model"
   ]
  },
  {
   "cell_type": "markdown",
   "metadata": {},
   "source": [
    "# Keras BERT implementation"
   ]
  },
  {
   "cell_type": "code",
   "execution_count": 2,
   "metadata": {
    "nbpresent": {
     "id": "f61bc4e3-579a-44c9-a7c6-4dc1f9fbf7cb"
    }
   },
   "outputs": [],
   "source": [
    "# First install some extra packages\n",
    "# ! pip install pyconll\n",
    "# ! pip install pydot\n",
    "# ! pip install graphiz\n",
    "# ! pip install bert-tensorflow"
   ]
  },
  {
   "cell_type": "code",
   "execution_count": 1,
   "metadata": {
    "nbpresent": {
     "id": "f4a0e2d1-af80-44ba-a384-fab4d5d6c703"
    }
   },
   "outputs": [
    {
     "name": "stderr",
     "output_type": "stream",
     "text": [
      "Using TensorFlow backend.\n",
      "WARNING: Logging before flag parsing goes to stderr.\n",
      "W0527 23:36:22.545466 140718967228160 __init__.py:56] Some hub symbols are not available because TensorFlow version is less than 1.14\n"
     ]
    }
   ],
   "source": [
    "from numpy.random import seed\n",
    "seed(1)\n",
    "from tensorflow import set_random_seed\n",
    "set_random_seed(2)\n",
    "import pyconll, keras, pickle, os, random, nltk, datetime, warnings, gc, urllib.request, zipfile, collections\n",
    "import numpy as np\n",
    "import matplotlib.pyplot as plt\n",
    "from sklearn.utils import shuffle\n",
    "from sklearn.metrics import recall_score, precision_score, classification_report, accuracy_score, confusion_matrix, f1_score\n",
    "from sklearn.metrics.classification import UndefinedMetricWarning\n",
    "\n",
    "from keras.models import Sequential, Model\n",
    "from keras.layers import Embedding, Dense, Input, concatenate, Layer, Lambda, Dropout, Activation\n",
    "from keras.callbacks import ModelCheckpoint, EarlyStopping, Callback, TensorBoard\n",
    "from keras import backend as K\n",
    "from keras.models import load_model\n",
    "from keras.utils import plot_model\n",
    "from keras.utils.np_utils import to_categorical\n",
    "\n",
    "import tensorflow as tf\n",
    "import tensorflow_hub as hub\n",
    "from bert.tokenization import FullTokenizer\n",
    "\n",
    "from tqdm import tqdm_notebook\n",
    "from IPython.display import Image \n",
    "warnings.filterwarnings(action='ignore', category=UndefinedMetricWarning)"
   ]
  },
  {
   "cell_type": "markdown",
   "metadata": {
    "nbpresent": {
     "id": "0f518892-45cc-4978-97e8-02c1fce60407"
    }
   },
   "source": [
    "# Various plot functions"
   ]
  },
  {
   "cell_type": "code",
   "execution_count": 2,
   "metadata": {
    "nbpresent": {
     "id": "ffc21443-9fd6-4cd3-86e1-a1a518cb6aca"
    }
   },
   "outputs": [],
   "source": [
    "def plot_learning_curve(estimator, title, X, y, ylim=None, cv=None,\n",
    "                        n_jobs=None, train_sizes=np.linspace(.1, 1.0, 5)):\n",
    "    plt.title(title)\n",
    "    if ylim is not None:\n",
    "        plt.ylim(*ylim)\n",
    "    plt.xlabel(\"Training examples\")\n",
    "    plt.ylabel(\"Accuracy\")\n",
    "    train_sizes, train_scores, test_scores = learning_curve(\n",
    "        estimator, X, y, cv=cv, n_jobs=n_jobs, train_sizes=train_sizes, scoring='accuracy')\n",
    "    train_scores_mean = np.mean(train_scores, axis=1)\n",
    "    train_scores_std = np.std(train_scores, axis=1)\n",
    "    test_scores_mean = np.mean(test_scores, axis=1)\n",
    "    test_scores_std = np.std(test_scores, axis=1)\n",
    "    plt.grid()\n",
    "\n",
    "    plt.fill_between(train_sizes, train_scores_mean - train_scores_std,\n",
    "                     train_scores_mean + train_scores_std, alpha=0.1,\n",
    "                     color=\"r\")\n",
    "    plt.fill_between(train_sizes, test_scores_mean - test_scores_std,\n",
    "                     test_scores_mean + test_scores_std, alpha=0.1, color=\"g\")\n",
    "    plt.plot(train_sizes, train_scores_mean, 'o-', color=\"r\",\n",
    "             label=\"Training score\")\n",
    "    plt.plot(train_sizes, test_scores_mean, 'o-', color=\"g\",\n",
    "             label=\"Cross-validation score\")\n",
    "\n",
    "    plt.legend(loc=\"best\")\n",
    "    return plt"
   ]
  },
  {
   "cell_type": "code",
   "execution_count": 3,
   "metadata": {
    "nbpresent": {
     "id": "aa581c97-05ee-4e34-9f9d-884ce9ba4b66"
    }
   },
   "outputs": [],
   "source": [
    "def plot_confusion_matrix(f1,\n",
    "                          cm,\n",
    "                          target_names,\n",
    "                          title='Confusion matrix',\n",
    "                          cmap=None,\n",
    "                          normalize=True,\n",
    "                          i=1):\n",
    "    \"\"\"\n",
    "    given a sklearn confusion matrix (cm), make a nice plot\n",
    "\n",
    "    Arguments\n",
    "    ---------\n",
    "    cm:           confusion matrix from sklearn.metrics.confusion_matrix\n",
    "\n",
    "    target_names: given classification classes such as [0, 1, 2]\n",
    "                  the class names, for example: ['high', 'medium', 'low']\n",
    "\n",
    "    title:        the text to display at the top of the matrix\n",
    "\n",
    "    cmap:         the gradient of the values displayed from matplotlib.pyplot.cm\n",
    "                  see http://matplotlib.org/examples/color/colormaps_reference.html\n",
    "                  plt.get_cmap('jet') or plt.cm.Blues\n",
    "\n",
    "    normalize:    If False, plot the raw numbers\n",
    "                  If True, plot the proportions\n",
    "\n",
    "    Usage\n",
    "    -----\n",
    "    plot_confusion_matrix(cm           = cm,                  # confusion matrix created by\n",
    "                                                              # sklearn.metrics.confusion_matrix\n",
    "                          normalize    = True,                # show proportions\n",
    "                          target_names = y_labels_vals,       # list of names of the classes\n",
    "                          title        = best_estimator_name) # title of graph\n",
    "\n",
    "    Citiation\n",
    "    ---------\n",
    "    http://scikit-learn.org/stable/auto_examples/model_selection/plot_confusion_matrix.html\n",
    "\n",
    "    \"\"\"\n",
    "    import matplotlib.pyplot as plt\n",
    "    import numpy as np\n",
    "    import itertools\n",
    "\n",
    "    accuracy = np.trace(cm) / float(np.sum(cm))\n",
    "    misclass = 1 - accuracy\n",
    "    plt.figure(figsize=(10, 6))\n",
    "    if cmap is None:\n",
    "        cmap = plt.get_cmap('Blues')\n",
    "\n",
    "    plt.imshow(cm, interpolation='nearest', cmap=cmap)\n",
    "    plt.title(title)\n",
    "    plt.colorbar()\n",
    "\n",
    "    if target_names is not None:\n",
    "        tick_marks = np.arange(len(target_names))\n",
    "        plt.xticks(tick_marks, target_names, rotation=45)\n",
    "        plt.yticks(tick_marks, target_names)\n",
    "\n",
    "    if normalize:\n",
    "        cm = cm.astype('float') / cm.sum(axis=1)[:, np.newaxis]\n",
    "\n",
    "\n",
    "    thresh = cm.max() / 1.5 if normalize else cm.max() / 2\n",
    "    for i, j in itertools.product(range(cm.shape[0]), range(cm.shape[1])):\n",
    "        if normalize:\n",
    "            plt.text(j, i, \"{:0.4f}\".format(cm[i, j]),\n",
    "                     horizontalalignment=\"center\",\n",
    "                     color=\"white\" if cm[i, j] > thresh else \"black\")\n",
    "        else:\n",
    "            plt.text(j, i, \"{:,}\".format(cm[i, j]),\n",
    "                     horizontalalignment=\"center\",\n",
    "                     color=\"white\" if cm[i, j] > thresh else \"black\")\n",
    "\n",
    "\n",
    "    plt.tight_layout()\n",
    "    plt.ylabel('True label')\n",
    "    plt.xlabel('Predicted label\\naccuracy={:0.4f}; misclass={:0.4f}; f1-score={:0.4f}'.format(accuracy, misclass, f1))"
   ]
  },
  {
   "cell_type": "code",
   "execution_count": 4,
   "metadata": {
    "nbpresent": {
     "id": "7626f765-a0ca-4230-b9b4-5aea4c185273"
    }
   },
   "outputs": [],
   "source": [
    "def plot_acc():\n",
    "    plt.plot(history.history['acc'])\n",
    "    plt.plot(history.history['val_acc'])\n",
    "    plt.title('model accuracy')\n",
    "    plt.ylabel('accuracy')\n",
    "    plt.xlabel('epoch')\n",
    "    plt.legend(['train', 'test'], loc='upper left')\n",
    "    plt.show()"
   ]
  },
  {
   "cell_type": "code",
   "execution_count": 5,
   "metadata": {
    "nbpresent": {
     "id": "4afdbba0-cb73-4bdc-97f7-3cbdd2d19079"
    },
    "scrolled": false
   },
   "outputs": [],
   "source": [
    "def plot_acc():\n",
    "    plt.plot(history.history['acc'])\n",
    "    plt.plot(history.history['val_acc'])\n",
    "    plt.title('model accuracy')\n",
    "    plt.ylabel('accuracy')\n",
    "    plt.xlabel('epoch')\n",
    "    plt.legend(['train', 'test'], loc='upper left')\n",
    "    plt.show()"
   ]
  },
  {
   "cell_type": "markdown",
   "metadata": {
    "nbpresent": {
     "id": "1585e7f9-881f-46fe-a1e8-ca970e292167"
    }
   },
   "source": [
    "# Load Dataset"
   ]
  },
  {
   "cell_type": "code",
   "execution_count": 6,
   "metadata": {
    "nbpresent": {
     "id": "75d32121-1074-4cd6-8355-599afeff56db"
    }
   },
   "outputs": [],
   "source": [
    "UD_ENGLISH_TRAIN = 'en_partut-ud-train.conllu'\n",
    "UD_ENGLISH_DEV = 'en_partut-ud-dev.conllu'\n",
    "UD_ENGLISH_TEST = 'en_partut-ud-test.conllu'"
   ]
  },
  {
   "cell_type": "code",
   "execution_count": 7,
   "metadata": {
    "nbpresent": {
     "id": "2eb0b136-1052-4d48-8a66-48b5ebc96ff8"
    }
   },
   "outputs": [],
   "source": [
    "def download_files():\n",
    "    print('Downloading English treebank...')\n",
    "    urllib.request.urlretrieve('http://archive.aueb.gr:8085/files/en_partut-ud-dev.conllu', 'en_partut-ud-dev.conllu')\n",
    "    urllib.request.urlretrieve('http://archive.aueb.gr:8085/files/en_partut-ud-test.conllu', 'en_partut-ud-test.conllu')\n",
    "    urllib.request.urlretrieve('http://archive.aueb.gr:8085/files/en_partut-ud-train.conllu', 'en_partut-ud-train.conllu')\n",
    "    print('Treebank downloaded.')"
   ]
  },
  {
   "cell_type": "code",
   "execution_count": 10,
   "metadata": {
    "nbpresent": {
     "id": "4e617ca6-4cce-42a0-9396-28b9d704df73"
    }
   },
   "outputs": [
    {
     "name": "stdout",
     "output_type": "stream",
     "text": [
      "Downloading English treebank...\n",
      "Treebank downloaded.\n"
     ]
    }
   ],
   "source": [
    "download_files()"
   ]
  },
  {
   "cell_type": "markdown",
   "metadata": {
    "nbpresent": {
     "id": "43c9097b-37be-4f3d-b3d3-4a54a94c1174"
    }
   },
   "source": [
    "# Preprocessing"
   ]
  },
  {
   "cell_type": "code",
   "execution_count": 8,
   "metadata": {
    "nbpresent": {
     "id": "016836bb-abb2-4235-ab21-df90a6e1e44e"
    }
   },
   "outputs": [],
   "source": [
    "def read_conllu(path):\n",
    "    data = pyconll.load_from_file(path)\n",
    "    tagged_sentences=[]\n",
    "    t=0\n",
    "    for sentence in data:\n",
    "        tagged_sentence=[]\n",
    "        for token in sentence:\n",
    "            if token.upos and token.form:\n",
    "                t+=1\n",
    "                tagged_sentence.append((token.form.lower(), token.upos))\n",
    "        tagged_sentences.append(tagged_sentence)\n",
    "    return tagged_sentences"
   ]
  },
  {
   "cell_type": "markdown",
   "metadata": {
    "nbpresent": {
     "id": "11bff856-f685-49ef-a4e6-b5f2a768a9ad"
    }
   },
   "source": [
    "Load train, development and test set in the appropriate tagged format, tuple (word, pos-tag)"
   ]
  },
  {
   "cell_type": "code",
   "execution_count": 9,
   "metadata": {
    "nbpresent": {
     "id": "fc49598b-75d3-45e9-9fa3-a7b604234760"
    }
   },
   "outputs": [],
   "source": [
    "train_sentences = read_conllu(UD_ENGLISH_TRAIN)\n",
    "val_sentences = read_conllu(UD_ENGLISH_DEV)\n",
    "test_sentences = read_conllu(UD_ENGLISH_TEST)"
   ]
  },
  {
   "cell_type": "markdown",
   "metadata": {
    "nbpresent": {
     "id": "3f72d1da-c1d1-4e25-a782-e12a66f1cedf"
    }
   },
   "source": [
    "Print some statistics"
   ]
  },
  {
   "cell_type": "code",
   "execution_count": 10,
   "metadata": {
    "nbpresent": {
     "id": "57ee9c67-7ec6-4054-91bc-a9aa896ba18a"
    }
   },
   "outputs": [
    {
     "name": "stdout",
     "output_type": "stream",
     "text": [
      "Tagged sentences in train set:  1781\n",
      "Tagged words in train set: 43518\n",
      "========================================\n",
      "Tagged sentences in dev set:  156\n",
      "Tagged words in dev set: 2722\n",
      "========================================\n",
      "Tagged sentences in test set:  153\n",
      "Tagged words in test set: 3408\n",
      "****************************************\n",
      "Total sentences in dataset: 2090\n"
     ]
    }
   ],
   "source": [
    "print(\"Tagged sentences in train set: \", len(train_sentences))\n",
    "print(\"Tagged words in train set:\", len([item for sublist in train_sentences for item in sublist]))\n",
    "print(40*'=')\n",
    "print(\"Tagged sentences in dev set: \", len(val_sentences))\n",
    "print(\"Tagged words in dev set:\", len([item for sublist in val_sentences for item in sublist]))\n",
    "print(40*'=')\n",
    "print(\"Tagged sentences in test set: \", len(test_sentences))\n",
    "print(\"Tagged words in test set:\", len([item for sublist in test_sentences for item in sublist]))\n",
    "print(40*'*')\n",
    "print(\"Total sentences in dataset:\", len(train_sentences)+len(val_sentences)+len(test_sentences))"
   ]
  },
  {
   "cell_type": "code",
   "execution_count": 11,
   "metadata": {
    "nbpresent": {
     "id": "eb97895a-d649-4318-b3ac-d7d6b6088a12"
    }
   },
   "outputs": [
    {
     "name": "stdout",
     "output_type": "stream",
     "text": [
      "[('distribution', 'NOUN'), ('of', 'ADP'), ('this', 'DET'), ('license', 'NOUN'), ('does', 'AUX'), ('not', 'PART'), ('create', 'VERB'), ('an', 'DET'), ('attorney', 'NOUN'), ('-', 'PUNCT'), ('client', 'NOUN'), ('relationship', 'NOUN'), ('.', 'PUNCT')]\n"
     ]
    }
   ],
   "source": [
    "print(train_sentences[0])"
   ]
  },
  {
   "cell_type": "code",
   "execution_count": 12,
   "metadata": {
    "nbpresent": {
     "id": "573e2ec4-2df3-49f2-913d-3d0af2d6dc36"
    }
   },
   "outputs": [],
   "source": [
    "# Some usefull functions\n",
    "def tag_sequence(sentences):\n",
    "    return [[t for w, t in sentence] for sentence in sentences]\n",
    "\n",
    "def text_sequence(sentences):\n",
    "    return [[w for w, t in sentence] for sentence in sentences]"
   ]
  },
  {
   "cell_type": "markdown",
   "metadata": {
    "nbpresent": {
     "id": "533dd9e2-9e0e-43c1-8d13-b096a81a8984"
    }
   },
   "source": [
    "# Build dictionary with tag vocabulary"
   ]
  },
  {
   "cell_type": "code",
   "execution_count": 13,
   "metadata": {},
   "outputs": [
    {
     "name": "stdout",
     "output_type": "stream",
     "text": [
      "TOTAL TAGS:  17\n"
     ]
    }
   ],
   "source": [
    "tags = set([item for sublist in train_sentences+test_sentences+val_sentences for _, item in sublist])\n",
    "print('TOTAL TAGS: ', len(tags))"
   ]
  },
  {
   "cell_type": "markdown",
   "metadata": {},
   "source": [
    "Add '-PAD-' tag with index=0 as used in BERT code"
   ]
  },
  {
   "cell_type": "code",
   "execution_count": 14,
   "metadata": {
    "nbpresent": {
     "id": "98944f66-c2ae-4b29-ba01-99287044a815"
    }
   },
   "outputs": [],
   "source": [
    "tag2int = {}\n",
    "int2tag = {}\n",
    "\n",
    "for i, tag in enumerate(sorted(tags)):\n",
    "    tag2int[tag] = i+1\n",
    "    int2tag[i+1] = tag"
   ]
  },
  {
   "cell_type": "code",
   "execution_count": 15,
   "metadata": {
    "nbpresent": {
     "id": "a935a8bd-0522-42a1-8fea-285b671df0b8"
    }
   },
   "outputs": [],
   "source": [
    "# Special character for the tags\n",
    "tag2int['-PAD-'] = 0\n",
    "int2tag[0] = '-PAD-'"
   ]
  },
  {
   "cell_type": "code",
   "execution_count": 16,
   "metadata": {
    "nbpresent": {
     "id": "3e55930b-4268-4b18-a7c7-de6675cdcc01"
    }
   },
   "outputs": [
    {
     "name": "stdout",
     "output_type": "stream",
     "text": [
      "Total tags: 18\n"
     ]
    }
   ],
   "source": [
    "n_tags = len(tag2int)\n",
    "print('Total tags:', n_tags)"
   ]
  },
  {
   "cell_type": "code",
   "execution_count": 17,
   "metadata": {},
   "outputs": [
    {
     "data": {
      "text/plain": [
       "['ADJ',\n",
       " 'ADP',\n",
       " 'ADV',\n",
       " 'AUX',\n",
       " 'CCONJ',\n",
       " 'DET',\n",
       " 'INTJ',\n",
       " 'NOUN',\n",
       " 'NUM',\n",
       " 'PART',\n",
       " 'PRON',\n",
       " 'PROPN',\n",
       " 'PUNCT',\n",
       " 'SCONJ',\n",
       " 'SYM',\n",
       " 'VERB',\n",
       " 'X',\n",
       " '-PAD-']"
      ]
     },
     "execution_count": 17,
     "metadata": {},
     "output_type": "execute_result"
    }
   ],
   "source": [
    "list(tag2int)"
   ]
  },
  {
   "cell_type": "markdown",
   "metadata": {
    "nbpresent": {
     "id": "6d6c1924-4661-4d3c-a446-ce81c05f9b71"
    }
   },
   "source": [
    "======================================================================================================="
   ]
  },
  {
   "cell_type": "markdown",
   "metadata": {
    "nbpresent": {
     "id": "0b2c54e8-30d1-4f19-b03e-533a9e27b069"
    }
   },
   "source": [
    "# Parameters"
   ]
  },
  {
   "cell_type": "code",
   "execution_count": 18,
   "metadata": {
    "nbpresent": {
     "id": "5a212b96-46c2-4147-9dba-9eea08757f36"
    }
   },
   "outputs": [],
   "source": [
    "MAX_SEQUENCE_LENGTH = 70\n",
    "EPOCHS = 30"
   ]
  },
  {
   "cell_type": "markdown",
   "metadata": {
    "nbpresent": {
     "id": "e1ee0fe5-a699-487d-9d36-b0342bc17d79"
    }
   },
   "source": [
    "# Special preprocessing for NNs"
   ]
  },
  {
   "cell_type": "markdown",
   "metadata": {
    "nbpresent": {
     "id": "e2fff7c1-9822-4192-95b8-6721acef446f"
    }
   },
   "source": [
    "### This is a very importand step for the whole process! So be careful, to rerun this step in case you change one of the following parameters:\n",
    "- MAX_SEQUENCE_LENGTH"
   ]
  },
  {
   "cell_type": "code",
   "execution_count": 19,
   "metadata": {
    "nbpresent": {
     "id": "12c47160-79d6-42d8-822d-e2d958e9ccb2"
    }
   },
   "outputs": [],
   "source": [
    "train_sentences = read_conllu(UD_ENGLISH_TRAIN)\n",
    "val_sentences = read_conllu(UD_ENGLISH_DEV)\n",
    "test_sentences = read_conllu(UD_ENGLISH_TEST)"
   ]
  },
  {
   "cell_type": "markdown",
   "metadata": {
    "nbpresent": {
     "id": "f67342ab-29db-4565-8912-1a7efb49f808"
    }
   },
   "source": [
    "Lets examine the train set sentences distribution:"
   ]
  },
  {
   "cell_type": "code",
   "execution_count": 20,
   "metadata": {
    "nbpresent": {
     "id": "844de2c1-e861-45db-8bc0-4e1f47724a95"
    }
   },
   "outputs": [
    {
     "data": {
      "image/png": "[encoded data removed]",
      "text/plain": [
       "<Figure size 432x288 with 1 Axes>"
      ]
     },
     "metadata": {},
     "output_type": "display_data"
    }
   ],
   "source": [
    "import matplotlib.pyplot as plt\n",
    "plt.style.use(\"ggplot\")\n",
    "plt.hist([len(s) for s in train_sentences], bins=50)\n",
    "plt.show()"
   ]
  },
  {
   "cell_type": "code",
   "execution_count": 21,
   "metadata": {
    "nbpresent": {
     "id": "d9a2a74a-dff8-4dce-a9d2-b251e8a33976"
    }
   },
   "outputs": [
    {
     "name": "stdout",
     "output_type": "stream",
     "text": [
      "Max sentence length: 209\n"
     ]
    }
   ],
   "source": [
    "print('Max sentence length:',len(max(train_sentences+val_sentences, key=len)))"
   ]
  },
  {
   "cell_type": "markdown",
   "metadata": {
    "nbpresent": {
     "id": "0bff7138-d0ee-43b8-82ae-8d577b6e18f1"
    }
   },
   "source": [
    "To improve speed we will use a MAX_SEQUENCE_LENGTH shorter than the max lengthed sentence. To avoid truncating sequences during padding we split our sentences to MAX_SEQUENCE_LENGTH and so the number of samples increases accordingly. For example, if MAX_SEQUENCE_LENGTH=70, a sentence with length 150 splits in 3 sentences: 150=70+70+10"
   ]
  },
  {
   "cell_type": "code",
   "execution_count": 22,
   "metadata": {
    "nbpresent": {
     "id": "6b60d427-a8d8-4bb7-ad74-6b890098b6f7"
    }
   },
   "outputs": [],
   "source": [
    "def  split(sentences, max):\n",
    "    new=[]\n",
    "    for data in sentences:\n",
    "        new.append(([data[x:x+max] for x in range(0, len(data), max)]))\n",
    "    new = [val for sublist in new for val in sublist]\n",
    "    return new"
   ]
  },
  {
   "cell_type": "code",
   "execution_count": 23,
   "metadata": {
    "nbpresent": {
     "id": "067299e9-7857-445b-99dd-1df2ddd4d740"
    }
   },
   "outputs": [],
   "source": [
    "train_sentences = split(train_sentences, MAX_SEQUENCE_LENGTH)\n",
    "val_sentences = split(val_sentences, MAX_SEQUENCE_LENGTH)\n",
    "test_sentences = split(test_sentences, MAX_SEQUENCE_LENGTH)"
   ]
  },
  {
   "cell_type": "code",
   "execution_count": 24,
   "metadata": {
    "nbpresent": {
     "id": "b180dbde-a00e-4f4b-aad7-33b0b31ad693"
    }
   },
   "outputs": [
    {
     "data": {
      "text/plain": [
       "70"
      ]
     },
     "execution_count": 24,
     "metadata": {},
     "output_type": "execute_result"
    }
   ],
   "source": [
    "len(max(train_sentences+val_sentences, key=len))"
   ]
  },
  {
   "cell_type": "code",
   "execution_count": 25,
   "metadata": {},
   "outputs": [],
   "source": [
    "train_sentences = train_sentences + val_sentences"
   ]
  },
  {
   "cell_type": "markdown",
   "metadata": {
    "nbpresent": {
     "id": "bf4abb0c-ba12-4be4-918d-06172bc011f1"
    }
   },
   "source": [
    "# BERT implementation"
   ]
  },
  {
   "cell_type": "code",
   "execution_count": 26,
   "metadata": {
    "nbpresent": {
     "id": "b2e4df36-f6ed-4961-b2d2-540fcbf651fd"
    }
   },
   "outputs": [],
   "source": [
    "# Initialize session\n",
    "sess = tf.Session()\n",
    "# Params for bert model and tokenization\n",
    "bert_path = \"https://tfhub.dev/google/bert_uncased_L-12_H-768_A-12/1\""
   ]
  },
  {
   "cell_type": "code",
   "execution_count": 27,
   "metadata": {
    "nbpresent": {
     "id": "81781553-5840-4539-8e31-ebf941647e22"
    }
   },
   "outputs": [],
   "source": [
    "train_text = text_sequence(train_sentences)\n",
    "test_text = text_sequence(test_sentences)\n",
    "#val_text = text_sequence(val_sentences)\n",
    "\n",
    "train_label = tag_sequence(train_sentences)\n",
    "test_label= tag_sequence(test_sentences)\n",
    "#val_label= tag_sequence(val_sentences)"
   ]
  },
  {
   "cell_type": "code",
   "execution_count": 28,
   "metadata": {},
   "outputs": [
    {
     "data": {
      "text/plain": [
       "1951"
      ]
     },
     "execution_count": 28,
     "metadata": {},
     "output_type": "execute_result"
    }
   ],
   "source": [
    "len(train_text)"
   ]
  },
  {
   "cell_type": "code",
   "execution_count": 29,
   "metadata": {
    "scrolled": true
   },
   "outputs": [
    {
     "data": {
      "text/plain": [
       "(['distribution',\n",
       "  'of',\n",
       "  'this',\n",
       "  'license',\n",
       "  'does',\n",
       "  'not',\n",
       "  'create',\n",
       "  'an',\n",
       "  'attorney',\n",
       "  '-',\n",
       "  'client',\n",
       "  'relationship',\n",
       "  '.'],\n",
       " ['NOUN',\n",
       "  'ADP',\n",
       "  'DET',\n",
       "  'NOUN',\n",
       "  'AUX',\n",
       "  'PART',\n",
       "  'VERB',\n",
       "  'DET',\n",
       "  'NOUN',\n",
       "  'PUNCT',\n",
       "  'NOUN',\n",
       "  'NOUN',\n",
       "  'PUNCT'])"
      ]
     },
     "execution_count": 29,
     "metadata": {},
     "output_type": "execute_result"
    }
   ],
   "source": [
    "train_text[0], train_label[0]"
   ]
  },
  {
   "cell_type": "markdown",
   "metadata": {},
   "source": [
    "# Functions used for BERT representation"
   ]
  },
  {
   "cell_type": "code",
   "execution_count": 88,
   "metadata": {
    "nbpresent": {
     "id": "1165aa8f-9bd2-48d7-8ad2-3109c960334f"
    }
   },
   "outputs": [],
   "source": [
    "class PaddingInputExample(object):\n",
    "    \"\"\"Fake example so the num input examples is a multiple of the batch size.\n",
    "  When running eval/predict on the TPU, we need to pad the number of examples\n",
    "  to be a multiple of the batch size, because the TPU requires a fixed batch\n",
    "  size. The alternative is to drop the last batch, which is bad because it means\n",
    "  the entire output data won't be generated.\n",
    "  We use this class instead of `None` because treating `None` as padding\n",
    "  battches could cause silent errors.\n",
    "  \"\"\"\n",
    "\n",
    "class InputExample(object):\n",
    "    \"\"\"A single training/test example for simple sequence classification.\"\"\"\n",
    "\n",
    "    def __init__(self, guid, text_a, text_b=None, label=None):\n",
    "        \"\"\"Constructs a InputExample.\n",
    "    Args:\n",
    "      guid: Unique id for the example.\n",
    "      text_a: string. The untokenized text of the first sequence. For single\n",
    "        sequence tasks, only this sequence must be specified.\n",
    "      text_b: (Optional) string. The untokenized text of the second sequence.\n",
    "        Only must be specified for sequence pair tasks.\n",
    "      label: (Optional) string. The label of the example. This should be\n",
    "        specified for train and dev examples, but not for test examples.\n",
    "    \"\"\"\n",
    "        self.guid = guid\n",
    "        self.text_a = text_a\n",
    "        self.text_b = text_b\n",
    "        self.label = label\n",
    "\n",
    "def create_tokenizer_from_hub_module():\n",
    "    \"\"\"Get the vocab file and casing info from the Hub module.\"\"\"\n",
    "    bert_module =  hub.Module(bert_path)\n",
    "    tokenization_info = bert_module(signature=\"tokenization_info\", as_dict=True)\n",
    "    vocab_file, do_lower_case = sess.run(\n",
    "        [\n",
    "            tokenization_info[\"vocab_file\"],\n",
    "            tokenization_info[\"do_lower_case\"],\n",
    "        ]\n",
    "    )\n",
    "\n",
    "    return FullTokenizer(vocab_file=vocab_file, do_lower_case=do_lower_case)\n",
    "\n",
    "def convert_single_example(tokenizer, example, max_seq_length=256):\n",
    "    \"\"\"Converts a single `InputExample` into a single `InputFeatures`.\"\"\"\n",
    "\n",
    "    if isinstance(example, PaddingInputExample):\n",
    "        input_ids = [0] * max_seq_length\n",
    "        input_mask = [0] * max_seq_length\n",
    "        segment_ids = [0] * max_seq_length\n",
    "        label_ids = [0] * max_seq_length\n",
    "        return input_ids, input_mask, segment_ids, label_ids\n",
    "    \n",
    "    tokens_a = example.text_a\n",
    "    if len(tokens_a) > max_seq_length-2:\n",
    "        tokens_a = tokens_a[0 : (max_seq_length-2)]\n",
    "\n",
    "# Token map will be an int -> int mapping between the `orig_tokens` index and\n",
    "# the `bert_tokens` index.\n",
    "\n",
    "# bert_tokens == [\"[CLS]\", \"john\", \"johan\", \"##son\", \"'\", \"s\", \"house\", \"[SEP]\"]\n",
    "# orig_to_tok_map == [1, 2, 4, 6]   \n",
    "    orig_to_tok_map = []              \n",
    "    tokens = []\n",
    "    segment_ids = []\n",
    "    \n",
    "    tokens.append(\"[CLS]\")\n",
    "    segment_ids.append(0)\n",
    "    orig_to_tok_map.append(len(tokens)-1)\n",
    "    #print(len(tokens_a))\n",
    "    for token in tokens_a:       \n",
    "        tokens.extend(tokenizer.tokenize(token))\n",
    "        orig_to_tok_map.append(len(tokens)-1)\n",
    "        segment_ids.append(0)\n",
    "    tokens.append(\"[SEP]\")\n",
    "    segment_ids.append(0)\n",
    "    orig_to_tok_map.append(len(tokens)-1)\n",
    "    input_ids = tokenizer.convert_tokens_to_ids([tokens[i] for i in orig_to_tok_map])\n",
    "    #print(len(orig_to_tok_map), len(tokens), len(input_ids), len(segment_ids)) #for debugging\n",
    "\n",
    "    # The mask has 1 for real tokens and 0 for padding tokens. Only real\n",
    "    # tokens are attended to.\n",
    "    input_mask = [1] * len(input_ids)\n",
    "    \n",
    "    label_ids = []\n",
    "    labels = example.label\n",
    "    label_ids.append(0)\n",
    "    label_ids.extend([tag2int[label] for label in labels])\n",
    "    label_ids.append(0)\n",
    "    #print(len(label_ids)) #for debugging\n",
    "    # Zero-pad up to the sequence length.\n",
    "    while len(input_ids) < max_seq_length:\n",
    "        input_ids.append(0)\n",
    "        input_mask.append(0)\n",
    "        segment_ids.append(0)\n",
    "        label_ids.append(0)\n",
    "\n",
    "    assert len(input_ids) == max_seq_length\n",
    "    assert len(input_mask) == max_seq_length\n",
    "    assert len(segment_ids) == max_seq_length\n",
    "    assert len(label_ids) == max_seq_length\n",
    "\n",
    "    return input_ids, input_mask, segment_ids, label_ids\n",
    "\n",
    "def convert_examples_to_features(tokenizer, examples, max_seq_length=256):\n",
    "    \"\"\"Convert a set of `InputExample`s to a list of `InputFeatures`.\"\"\"\n",
    "\n",
    "    input_ids, input_masks, segment_ids, labels = [], [], [], []\n",
    "    for example in tqdm_notebook(examples, desc=\"Converting examples to features\"):\n",
    "        input_id, input_mask, segment_id, label = convert_single_example(\n",
    "            tokenizer, example, max_seq_length\n",
    "        )\n",
    "        input_ids.append(input_id)\n",
    "        input_masks.append(input_mask)\n",
    "        segment_ids.append(segment_id)\n",
    "        labels.append(label)\n",
    "    return (\n",
    "        np.array(input_ids),\n",
    "        np.array(input_masks),\n",
    "        np.array(segment_ids),\n",
    "        np.array(labels),\n",
    "    )\n",
    "\n",
    "def convert_text_to_examples(texts, labels):\n",
    "    \"\"\"Create InputExamples\"\"\"\n",
    "    InputExamples = []\n",
    "    for text, label in zip(texts, labels):\n",
    "        InputExamples.append(\n",
    "            InputExample(guid=None, text_a=text, text_b=None, label=label)\n",
    "        )\n",
    "    return InputExamples"
   ]
  },
  {
   "cell_type": "code",
   "execution_count": 31,
   "metadata": {
    "nbpresent": {
     "id": "c5d22fdb-2f46-44b2-9962-cea0cc6927a8"
    }
   },
   "outputs": [
    {
     "name": "stdout",
     "output_type": "stream",
     "text": [
      "WARNING:tensorflow:From /home/dbnet/anaconda3/lib/python3.6/site-packages/tensorflow/python/ops/control_flow_ops.py:3632: colocate_with (from tensorflow.python.framework.ops) is deprecated and will be removed in a future version.\n",
      "Instructions for updating:\n",
      "Colocations handled automatically by placer.\n"
     ]
    },
    {
     "name": "stderr",
     "output_type": "stream",
     "text": [
      "W0527 23:36:38.126359 140718967228160 deprecation.py:323] From /home/dbnet/anaconda3/lib/python3.6/site-packages/tensorflow/python/ops/control_flow_ops.py:3632: colocate_with (from tensorflow.python.framework.ops) is deprecated and will be removed in a future version.\n",
      "Instructions for updating:\n",
      "Colocations handled automatically by placer.\n"
     ]
    },
    {
     "name": "stdout",
     "output_type": "stream",
     "text": [
      "INFO:tensorflow:Saver not created because there are no variables in the graph to restore\n"
     ]
    },
    {
     "name": "stderr",
     "output_type": "stream",
     "text": [
      "I0527 23:36:39.406475 140718967228160 saver.py:1483] Saver not created because there are no variables in the graph to restore\n"
     ]
    }
   ],
   "source": [
    "# Instantiate tokenizer\n",
    "tokenizer = create_tokenizer_from_hub_module()"
   ]
  },
  {
   "cell_type": "markdown",
   "metadata": {},
   "source": [
    "## Alignment code (token -> tag)"
   ]
  },
  {
   "cell_type": "markdown",
   "metadata": {},
   "source": [
    "Following suggestions from WordPiece tokenization part in https://github.com/google-research/bert, for POS tagging task, input sentences are converted to the following format:"
   ]
  },
  {
   "cell_type": "code",
   "execution_count": 26,
   "metadata": {},
   "outputs": [],
   "source": [
    "# orig_tokens = [\"John\", \"Johanson\", \"'s\",  \"house\"]\n",
    "# labels      = [\"NNP\",  \"NNP\",      \"POS\", \"NN\"]\n",
    "# bert_tokens = ['[CLS]\", \"john\", \"johan\", \"##son\", \"'\",   \"s\",  \"house\", \"[SEP]\"]\n",
    "# bert_labels = ['[CLS]\", \"NNP\",  \"NNP\",   \"##\",    \"POS\", \"##\", \"NN\",    \"[SEP]\"] "
   ]
  },
  {
   "cell_type": "markdown",
   "metadata": {},
   "source": [
    "So, due to **Wordpiece** tokenizer we must take special care for the correct alignment of token to tag. This is done in function *convert_single_example(tokenizer, example, max_seq_length=256)* with the following piece of code:"
   ]
  },
  {
   "cell_type": "code",
   "execution_count": 32,
   "metadata": {},
   "outputs": [],
   "source": [
    "def bert_labels(labels):\n",
    "    train_label_bert = []\n",
    "    train_label_bert.append('-PAD-')\n",
    "    for i in labels:\n",
    "        train_label_bert.append(i)\n",
    "    train_label_bert.append('-PAD-')\n",
    "    print('BERT labels:', train_label_bert)    "
   ]
  },
  {
   "cell_type": "code",
   "execution_count": 33,
   "metadata": {},
   "outputs": [],
   "source": [
    "tokens_a = train_text[2]"
   ]
  },
  {
   "cell_type": "code",
   "execution_count": 34,
   "metadata": {},
   "outputs": [],
   "source": [
    "orig_to_tok_map = []              \n",
    "tokens = []\n",
    "segment_ids = []\n",
    "tokens.append(\"[CLS]\")\n",
    "segment_ids.append(0)\n",
    "orig_to_tok_map.append(len(tokens)-1)\n",
    "for token in tokens_a:\n",
    "    #orig_to_tok_map.append(len(tokens)) # keep first piece of tokenized term\n",
    "    tokens.extend(tokenizer.tokenize(token))\n",
    "    orig_to_tok_map.append(len(tokens)-1) # # keep last piece of tokenized term -->> gives better results!\n",
    "    segment_ids.append(0)\n",
    "tokens.append(\"[SEP]\")\n",
    "segment_ids.append(0)\n",
    "orig_to_tok_map.append(len(tokens)-1)\n",
    "input_ids = tokenizer.convert_tokens_to_ids([tokens[i] for i in orig_to_tok_map])"
   ]
  },
  {
   "cell_type": "code",
   "execution_count": 35,
   "metadata": {
    "nbpresent": {
     "id": "b31bd2f4-6a3b-4836-888a-5362ebdbc492"
    }
   },
   "outputs": [
    {
     "name": "stdout",
     "output_type": "stream",
     "text": [
      "Original tokens: ['creative', 'commons', 'makes', 'no', 'warranties', 'regarding', 'the', 'information', 'provided', ',', 'and', 'disclaims', 'liability', 'for', 'damages', 'resulting', 'from', 'its', 'use', '.']\n"
     ]
    }
   ],
   "source": [
    "print('Original tokens:',tokens_a)"
   ]
  },
  {
   "cell_type": "code",
   "execution_count": 36,
   "metadata": {
    "nbpresent": {
     "id": "b31bd2f4-6a3b-4836-888a-5362ebdbc492"
    }
   },
   "outputs": [
    {
     "name": "stdout",
     "output_type": "stream",
     "text": [
      "BERT tokens: ['[CLS]', 'creative', 'commons', 'makes', 'no', 'warrant', '##ies', 'regarding', 'the', 'information', 'provided', ',', 'and', 'disc', '##lai', '##ms', 'liability', 'for', 'damages', 'resulting', 'from', 'its', 'use', '.', '[SEP]']\n"
     ]
    }
   ],
   "source": [
    "print('BERT tokens:',tokens)"
   ]
  },
  {
   "cell_type": "code",
   "execution_count": 37,
   "metadata": {},
   "outputs": [
    {
     "name": "stdout",
     "output_type": "stream",
     "text": [
      "BERT labels: ['-PAD-', 'PROPN', 'PROPN', 'VERB', 'DET', 'NOUN', 'VERB', 'DET', 'NOUN', 'VERB', 'PUNCT', 'CCONJ', 'VERB', 'NOUN', 'ADP', 'NOUN', 'VERB', 'ADP', 'DET', 'NOUN', 'PUNCT', '-PAD-']\n"
     ]
    }
   ],
   "source": [
    "bert_labels(train_label[2])"
   ]
  },
  {
   "cell_type": "raw",
   "metadata": {},
   "source": [
    "So the allignment 'warranties' -> 'NOUN' becomes after alligning '##ies' -> 'NOUN'\n",
    "We tested the other (proposed in run_classifier.py) possible allignment 'warrant' -> 'NOUN', but with worse results!"
   ]
  },
  {
   "cell_type": "code",
   "execution_count": 38,
   "metadata": {},
   "outputs": [
    {
     "data": {
      "text/plain": [
       "[0, 1, 2, 3, 4, 6, 7, 8, 9, 10, 11, 12, 15, 16, 17, 18, 19, 20, 21, 22, 23, 24]"
      ]
     },
     "execution_count": 38,
     "metadata": {},
     "output_type": "execute_result"
    }
   ],
   "source": [
    "orig_to_tok_map"
   ]
  },
  {
   "cell_type": "code",
   "execution_count": 39,
   "metadata": {},
   "outputs": [
    {
     "name": "stdout",
     "output_type": "stream",
     "text": [
      "[101, 5541, 7674, 3084, 2053, 3111, 4953, 1996, 2592, 3024, 1010, 1998, 5244, 14000, 2005, 12394, 4525, 2013, 2049, 2224, 1012, 102]\n"
     ]
    }
   ],
   "source": [
    "print(input_ids)"
   ]
  },
  {
   "cell_type": "markdown",
   "metadata": {},
   "source": [
    "## Test the conversion of an example to BERT representation"
   ]
  },
  {
   "cell_type": "code",
   "execution_count": 40,
   "metadata": {
    "nbpresent": {
     "id": "a8524cd7-a390-455a-b94d-995aabcbfb02"
    }
   },
   "outputs": [],
   "source": [
    "\"\"\"Create InputExamples\"\"\"\n",
    "InputExamples = []\n",
    "for text, label in zip(train_text[0:1], train_label[0:1]):\n",
    "    InputExamples.append(\n",
    "        InputExample(guid=None, text_a=text, text_b=None, label=label)\n",
    ")"
   ]
  },
  {
   "cell_type": "code",
   "execution_count": 41,
   "metadata": {
    "nbpresent": {
     "id": "da8ff012-152f-4533-975c-b23c3a63611c"
    }
   },
   "outputs": [
    {
     "data": {
      "text/plain": [
       "HBox(children=(IntProgress(value=0, description='Converting examples to features', max=1, style=ProgressStyle(…"
      ]
     },
     "metadata": {},
     "output_type": "display_data"
    },
    {
     "name": "stdout",
     "output_type": "stream",
     "text": [
      "\n"
     ]
    }
   ],
   "source": [
    "input_ids, input_masks, segment_ids, labels = [], [], [], []\n",
    "for example in tqdm_notebook(InputExamples, desc=\"Converting examples to features\"):\n",
    "    input_id, input_mask, segment_id, label = convert_single_example(\n",
    "        tokenizer, example, MAX_SEQUENCE_LENGTH+2\n",
    "    )\n",
    "    input_ids.append(input_id)\n",
    "    input_masks.append(input_mask)\n",
    "    segment_ids.append(segment_id)\n",
    "    labels.append(label)"
   ]
  },
  {
   "cell_type": "markdown",
   "metadata": {},
   "source": [
    "## Convert examples to BERT representation"
   ]
  },
  {
   "cell_type": "code",
   "execution_count": 101,
   "metadata": {
    "nbpresent": {
     "id": "eb4915fc-babf-4bf9-8789-ab05ef24be45"
    }
   },
   "outputs": [],
   "source": [
    "# Convert data to InputExample format\n",
    "train_examples = convert_text_to_examples(train_text, train_label)\n",
    "test_examples = convert_text_to_examples(test_text, test_label)"
   ]
  },
  {
   "cell_type": "code",
   "execution_count": 102,
   "metadata": {
    "nbpresent": {
     "id": "4f427047-23e0-4dd4-b8b7-333c93eb88ce"
    }
   },
   "outputs": [
    {
     "data": {
      "text/plain": [
       "HBox(children=(IntProgress(value=0, description='Converting examples to features', max=1951, style=ProgressSty…"
      ]
     },
     "metadata": {},
     "output_type": "display_data"
    },
    {
     "name": "stdout",
     "output_type": "stream",
     "text": [
      "\n"
     ]
    },
    {
     "data": {
      "text/plain": [
       "HBox(children=(IntProgress(value=0, description='Converting examples to features', max=154, style=ProgressStyl…"
      ]
     },
     "metadata": {},
     "output_type": "display_data"
    },
    {
     "name": "stdout",
     "output_type": "stream",
     "text": [
      "\n"
     ]
    }
   ],
   "source": [
    "# Convert to features\n",
    "(train_input_ids, train_input_masks, train_segment_ids, train_labels_ids\n",
    ") = convert_examples_to_features(tokenizer, train_examples, max_seq_length=MAX_SEQUENCE_LENGTH+2)\n",
    "(test_input_ids, test_input_masks, test_segment_ids, test_labels_ids\n",
    ") = convert_examples_to_features(tokenizer, test_examples, max_seq_length=MAX_SEQUENCE_LENGTH+2)"
   ]
  },
  {
   "cell_type": "markdown",
   "metadata": {},
   "source": [
    "## See the form of BERT representation"
   ]
  },
  {
   "cell_type": "code",
   "execution_count": 44,
   "metadata": {},
   "outputs": [
    {
     "name": "stdout",
     "output_type": "stream",
     "text": [
      "72\n",
      "72\n",
      "72\n",
      "72\n"
     ]
    }
   ],
   "source": [
    "print(len(train_input_ids[0]))\n",
    "print(len(train_input_masks[0]))\n",
    "print(len(train_segment_ids[0]))\n",
    "print(len(train_labels_ids[0]))"
   ]
  },
  {
   "cell_type": "code",
   "execution_count": 45,
   "metadata": {
    "nbpresent": {
     "id": "e3ab4f77-4587-4fd0-8fbc-b06840e852f5"
    }
   },
   "outputs": [
    {
     "data": {
      "text/plain": [
       "array([ 101, 4353, 1997, 2023, 6105, 2515, 2025, 3443, 2019, 4905, 1011,\n",
       "       7396, 3276, 1012,  102,    0,    0,    0,    0,    0,    0,    0,\n",
       "          0,    0,    0,    0,    0,    0,    0,    0,    0,    0,    0,\n",
       "          0,    0,    0,    0,    0,    0,    0,    0,    0,    0,    0,\n",
       "          0,    0,    0,    0,    0,    0,    0,    0,    0,    0,    0,\n",
       "          0,    0,    0,    0,    0,    0,    0,    0,    0,    0,    0,\n",
       "          0,    0,    0,    0,    0,    0])"
      ]
     },
     "execution_count": 45,
     "metadata": {},
     "output_type": "execute_result"
    }
   ],
   "source": [
    "train_input_ids[0]"
   ]
  },
  {
   "cell_type": "code",
   "execution_count": 46,
   "metadata": {
    "nbpresent": {
     "id": "996d81bf-c1ce-4d09-8315-8d3c4512ddb8"
    }
   },
   "outputs": [
    {
     "data": {
      "text/plain": [
       "array([1, 1, 1, 1, 1, 1, 1, 1, 1, 1, 1, 1, 1, 1, 1, 0, 0, 0, 0, 0, 0, 0,\n",
       "       0, 0, 0, 0, 0, 0, 0, 0, 0, 0, 0, 0, 0, 0, 0, 0, 0, 0, 0, 0, 0, 0,\n",
       "       0, 0, 0, 0, 0, 0, 0, 0, 0, 0, 0, 0, 0, 0, 0, 0, 0, 0, 0, 0, 0, 0,\n",
       "       0, 0, 0, 0, 0, 0])"
      ]
     },
     "execution_count": 46,
     "metadata": {},
     "output_type": "execute_result"
    }
   ],
   "source": [
    "train_input_masks[0]"
   ]
  },
  {
   "cell_type": "code",
   "execution_count": 47,
   "metadata": {
    "nbpresent": {
     "id": "d16548f1-b1a4-4003-b90e-c28164d4012d"
    }
   },
   "outputs": [
    {
     "data": {
      "text/plain": [
       "array([0, 0, 0, 0, 0, 0, 0, 0, 0, 0, 0, 0, 0, 0, 0, 0, 0, 0, 0, 0, 0, 0,\n",
       "       0, 0, 0, 0, 0, 0, 0, 0, 0, 0, 0, 0, 0, 0, 0, 0, 0, 0, 0, 0, 0, 0,\n",
       "       0, 0, 0, 0, 0, 0, 0, 0, 0, 0, 0, 0, 0, 0, 0, 0, 0, 0, 0, 0, 0, 0,\n",
       "       0, 0, 0, 0, 0, 0])"
      ]
     },
     "execution_count": 47,
     "metadata": {},
     "output_type": "execute_result"
    }
   ],
   "source": [
    "train_segment_ids[0]"
   ]
  },
  {
   "cell_type": "code",
   "execution_count": 48,
   "metadata": {
    "nbpresent": {
     "id": "4343b8c0-e6e3-4198-b209-968b28ec4fa4"
    }
   },
   "outputs": [
    {
     "data": {
      "text/plain": [
       "array([ 0,  8,  2,  6,  8,  4, 10, 16,  6,  8, 13,  8,  8, 13,  0,  0,  0,\n",
       "        0,  0,  0,  0,  0,  0,  0,  0,  0,  0,  0,  0,  0,  0,  0,  0,  0,\n",
       "        0,  0,  0,  0,  0,  0,  0,  0,  0,  0,  0,  0,  0,  0,  0,  0,  0,\n",
       "        0,  0,  0,  0,  0,  0,  0,  0,  0,  0,  0,  0,  0,  0,  0,  0,  0,\n",
       "        0,  0,  0,  0])"
      ]
     },
     "execution_count": 48,
     "metadata": {},
     "output_type": "execute_result"
    }
   ],
   "source": [
    "train_labels_ids[0]"
   ]
  },
  {
   "cell_type": "code",
   "execution_count": 49,
   "metadata": {
    "nbpresent": {
     "id": "080448a8-1f00-46b8-b4c9-e8aff53658ae"
    }
   },
   "outputs": [],
   "source": [
    "# One-hot encode labels\n",
    "train_labels = to_categorical(train_labels_ids, num_classes=n_tags)\n",
    "test_labels = to_categorical(test_labels_ids, num_classes=n_tags)"
   ]
  },
  {
   "cell_type": "code",
   "execution_count": 50,
   "metadata": {
    "nbpresent": {
     "id": "2a4bc11b-a307-4121-8c42-44dde65ae4cf"
    }
   },
   "outputs": [
    {
     "data": {
      "text/plain": [
       "(array([ 101, 4353, 1997, 2023, 6105, 2515, 2025, 3443, 2019, 4905, 1011,\n",
       "        7396, 3276, 1012,  102,    0,    0,    0,    0,    0,    0,    0,\n",
       "           0,    0,    0,    0,    0,    0,    0,    0,    0,    0,    0,\n",
       "           0,    0,    0,    0,    0,    0,    0,    0,    0,    0,    0,\n",
       "           0,    0,    0,    0,    0,    0,    0,    0,    0,    0,    0,\n",
       "           0,    0,    0,    0,    0,    0,    0,    0,    0,    0,    0,\n",
       "           0,    0,    0,    0,    0,    0]),\n",
       " array([[1., 0., 0., ..., 0., 0., 0.],\n",
       "        [0., 0., 0., ..., 0., 0., 0.],\n",
       "        [0., 0., 1., ..., 0., 0., 0.],\n",
       "        ...,\n",
       "        [1., 0., 0., ..., 0., 0., 0.],\n",
       "        [1., 0., 0., ..., 0., 0., 0.],\n",
       "        [1., 0., 0., ..., 0., 0., 0.]], dtype=float32))"
      ]
     },
     "execution_count": 50,
     "metadata": {},
     "output_type": "execute_result"
    }
   ],
   "source": [
    "train_input_ids[0], train_labels[0]"
   ]
  },
  {
   "cell_type": "markdown",
   "metadata": {},
   "source": [
    "## Model building"
   ]
  },
  {
   "cell_type": "code",
   "execution_count": 51,
   "metadata": {
    "nbpresent": {
     "id": "4098aad1-cdf7-4282-ba3b-70897cdcfe1d"
    }
   },
   "outputs": [],
   "source": [
    "class BertLayer(Layer):\n",
    "    def __init__(self, output_representation='sequence_output', trainable=True, **kwargs):\n",
    "        self.bert = None\n",
    "        super(BertLayer, self).__init__(**kwargs)\n",
    "        \n",
    "        self.trainable = trainable\n",
    "        self.output_representation = output_representation\n",
    "\n",
    "    def build(self, input_shape):\n",
    "        # SetUp tensorflow Hub module\n",
    "        self.bert = hub.Module(bert_path,\n",
    "                               trainable=self.trainable, \n",
    "                               name=\"{}_module\".format(self.name))\n",
    "\n",
    "        # Assign module's trainable weights to model\n",
    "        # Remove unused layers and set trainable parameters\n",
    "        # s = [\"/cls/\", \"/pooler/\", 'layer_11', 'layer_10', 'layer_9', 'layer_8', 'layer_7', 'layer_6']\n",
    "        s = [\"/cls/\", \"/pooler/\"]\n",
    "        self.trainable_weights += [var for var in self.bert.variables[:] if not any(x in var.name for x in s)]\n",
    "            \n",
    "        for var in self.bert.variables:\n",
    "            if var not in self._trainable_weights:\n",
    "                self._non_trainable_weights.append(var)\n",
    "                \n",
    "        # See Trainable Variables\n",
    "        #tf.logging.info(\"**** Trainable Variables ****\")\n",
    "        #for var in self.trainable_weights:\n",
    "        #    init_string = \", *INIT_FROM_CKPT*\"\n",
    "        #    tf.logging.info(\"  name = %s, shape = %s%s\", var.name, var.shape, init_string)\n",
    "            \n",
    "        print('Trainable weights:',len(self.trainable_weights))\n",
    "        super(BertLayer, self).build(input_shape)\n",
    "\n",
    "    def call(self, inputs, mask=None):\n",
    "        inputs = [K.cast(x, dtype=\"int32\") for x in inputs]\n",
    "        input_ids, input_mask, segment_ids = inputs\n",
    "        bert_inputs = dict(\n",
    "            input_ids=input_ids, input_mask=input_mask, segment_ids=segment_ids\n",
    "        )\n",
    "        result = self.bert(inputs=bert_inputs, signature=\"tokens\", as_dict=True)[\n",
    "            self.output_representation\n",
    "        ]\n",
    "        return result\n",
    "\n",
    "    def compute_mask(self, inputs, mask=None):\n",
    "        return K.not_equal(inputs[0], 0.0)   \n",
    "\n",
    "    def compute_output_shape(self, input_shape):\n",
    "        if self.output_representation == 'pooled_output':\n",
    "            return (None, 768)\n",
    "        else:\n",
    "            return (None, None, 768)"
   ]
  },
  {
   "cell_type": "code",
   "execution_count": 52,
   "metadata": {
    "nbpresent": {
     "id": "177cc483-831b-4a10-b659-e1c6cf653877"
    }
   },
   "outputs": [],
   "source": [
    "#del model"
   ]
  },
  {
   "cell_type": "code",
   "execution_count": 53,
   "metadata": {
    "nbpresent": {
     "id": "08a4002f-f656-47f2-814d-447e0bd56858"
    }
   },
   "outputs": [],
   "source": [
    "# Build model\n",
    "def build_model(max_seq_length):\n",
    "    seed = 0 \n",
    "    in_id = keras.layers.Input(shape=(max_seq_length,), name=\"input_ids\")\n",
    "    in_mask = keras.layers.Input(shape=(max_seq_length,), name=\"input_masks\")\n",
    "    in_segment = keras.layers.Input(shape=(max_seq_length,), name=\"segment_ids\")\n",
    "    bert_inputs = [in_id, in_mask, in_segment]\n",
    "    \n",
    "    np.random.seed(seed)\n",
    "    bert_output = BertLayer()(bert_inputs)\n",
    "\n",
    "    np.random.seed(seed)\n",
    "    outputs = keras.layers.Dense(n_tags, activation=keras.activations.softmax)(bert_output)\n",
    "\n",
    "    np.random.seed(seed)\n",
    "    model = keras.models.Model(inputs=bert_inputs, outputs=outputs)\n",
    "    np.random.seed(seed)\n",
    "    model.compile(optimizer=keras.optimizers.Adam(lr=0.00004), loss=keras.losses.categorical_crossentropy, metrics=['accuracy'])   \n",
    "    model.summary(100)\n",
    "    return model\n",
    "\n",
    "def initialize_vars(sess):\n",
    "    sess.run(tf.local_variables_initializer())\n",
    "    sess.run(tf.global_variables_initializer())\n",
    "    sess.run(tf.tables_initializer())\n",
    "    K.set_session(sess)"
   ]
  },
  {
   "cell_type": "code",
   "execution_count": 54,
   "metadata": {
    "nbpresent": {
     "id": "c1391d48-0f3d-4b90-b1b4-4d8cae268050"
    }
   },
   "outputs": [
    {
     "name": "stdout",
     "output_type": "stream",
     "text": [
      "Trainable weights: 197\n",
      "INFO:tensorflow:Saver not created because there are no variables in the graph to restore\n"
     ]
    },
    {
     "name": "stderr",
     "output_type": "stream",
     "text": [
      "I0527 23:37:14.097841 140718967228160 saver.py:1483] Saver not created because there are no variables in the graph to restore\n"
     ]
    },
    {
     "name": "stdout",
     "output_type": "stream",
     "text": [
      "____________________________________________________________________________________________________\n",
      "Layer (type)                     Output Shape          Param #     Connected to                     \n",
      "====================================================================================================\n",
      "input_ids (InputLayer)           (None, 72)            0                                            \n",
      "____________________________________________________________________________________________________\n",
      "input_masks (InputLayer)         (None, 72)            0                                            \n",
      "____________________________________________________________________________________________________\n",
      "segment_ids (InputLayer)         (None, 72)            0                                            \n",
      "____________________________________________________________________________________________________\n",
      "bert_layer_1 (BertLayer)         (None, None, 768)     110104890   input_ids[0][0]                  \n",
      "                                                                   input_masks[0][0]                \n",
      "                                                                   segment_ids[0][0]                \n",
      "____________________________________________________________________________________________________\n",
      "dense_1 (Dense)                  (None, None, 18)      13842       bert_layer_1[0][0]               \n",
      "====================================================================================================\n",
      "Total params: 110,118,732\n",
      "Trainable params: 108,905,490\n",
      "Non-trainable params: 1,213,242\n",
      "____________________________________________________________________________________________________\n"
     ]
    }
   ],
   "source": [
    "model = build_model(MAX_SEQUENCE_LENGTH+2) # We sum 2 for [CLS], [SEP] tokens"
   ]
  },
  {
   "cell_type": "code",
   "execution_count": 55,
   "metadata": {},
   "outputs": [
    {
     "data": {
      "image/png": "[encoded data removed]",
      "text/plain": [
       "<IPython.core.display.Image object>"
      ]
     },
     "execution_count": 55,
     "metadata": {},
     "output_type": "execute_result"
    }
   ],
   "source": [
    "plot_model(model, to_file='model.png', show_shapes=True)\n",
    "Image('model.png')"
   ]
  },
  {
   "cell_type": "code",
   "execution_count": 56,
   "metadata": {
    "nbpresent": {
     "id": "e5b1510d-5965-4f77-8c1c-a019bb081441"
    }
   },
   "outputs": [
    {
     "data": {
      "text/plain": [
       "(1951, 72)"
      ]
     },
     "execution_count": 56,
     "metadata": {},
     "output_type": "execute_result"
    }
   ],
   "source": [
    "train_input_ids.shape"
   ]
  },
  {
   "cell_type": "code",
   "execution_count": 57,
   "metadata": {
    "nbpresent": {
     "id": "e2ced586-54d2-4f87-87b4-11447a074836"
    }
   },
   "outputs": [
    {
     "data": {
      "text/plain": [
       "(1951, 72)"
      ]
     },
     "execution_count": 57,
     "metadata": {},
     "output_type": "execute_result"
    }
   ],
   "source": [
    "train_input_masks.shape"
   ]
  },
  {
   "cell_type": "code",
   "execution_count": 58,
   "metadata": {
    "nbpresent": {
     "id": "d4e8c809-bc83-428b-824d-4640127d0a6f"
    }
   },
   "outputs": [
    {
     "data": {
      "text/plain": [
       "(1951, 72)"
      ]
     },
     "execution_count": 58,
     "metadata": {},
     "output_type": "execute_result"
    }
   ],
   "source": [
    "train_segment_ids.shape"
   ]
  },
  {
   "cell_type": "code",
   "execution_count": 59,
   "metadata": {},
   "outputs": [
    {
     "data": {
      "text/plain": [
       "(1951, 72, 18)"
      ]
     },
     "execution_count": 59,
     "metadata": {},
     "output_type": "execute_result"
    }
   ],
   "source": [
    "train_labels.shape"
   ]
  },
  {
   "cell_type": "markdown",
   "metadata": {},
   "source": [
    "## Model training (BERT fine-tuning)"
   ]
  },
  {
   "cell_type": "code",
   "execution_count": 60,
   "metadata": {},
   "outputs": [],
   "source": [
    "initialize_vars(sess)"
   ]
  },
  {
   "cell_type": "code",
   "execution_count": 83,
   "metadata": {
    "nbpresent": {
     "id": "fc7dd289-a946-479a-838e-e25e6384f16a"
    }
   },
   "outputs": [
    {
     "name": "stdout",
     "output_type": "stream",
     "text": [
      "Train on 1951 samples, validate on 154 samples\n",
      "Epoch 1/30\n",
      "1951/1951 [==============================] - 34s 17ms/step - loss: 0.4391 - acc: 0.8772 - val_loss: 0.1254 - val_acc: 0.9651\n",
      "\n",
      "Epoch 00001: val_acc improved from -inf to 0.96510, saving model to bert_tagger.h5\n",
      "Epoch 2/30\n",
      "1951/1951 [==============================] - 19s 10ms/step - loss: 0.0719 - acc: 0.9800 - val_loss: 0.1186 - val_acc: 0.9682\n",
      "\n",
      "Epoch 00002: val_acc improved from 0.96510 to 0.96819, saving model to bert_tagger.h5\n",
      "Epoch 3/30\n",
      "1951/1951 [==============================] - 19s 10ms/step - loss: 0.0297 - acc: 0.9915 - val_loss: 0.1298 - val_acc: 0.9704\n",
      "\n",
      "Epoch 00003: val_acc improved from 0.96819 to 0.97043, saving model to bert_tagger.h5\n",
      "Epoch 4/30\n",
      "1951/1951 [==============================] - 19s 10ms/step - loss: 0.0120 - acc: 0.9968 - val_loss: 0.1495 - val_acc: 0.9701\n",
      "\n",
      "Epoch 00004: val_acc did not improve from 0.97043\n",
      "Epoch 5/30\n",
      "1951/1951 [==============================] - 19s 10ms/step - loss: 0.0057 - acc: 0.9988 - val_loss: 0.1654 - val_acc: 0.9700\n",
      "\n",
      "Epoch 00005: val_acc did not improve from 0.97043\n",
      "Epoch 6/30\n",
      "1951/1951 [==============================] - 19s 10ms/step - loss: 0.0032 - acc: 0.9992 - val_loss: 0.1809 - val_acc: 0.9709\n",
      "\n",
      "Epoch 00006: val_acc improved from 0.97043 to 0.97089, saving model to bert_tagger.h5\n",
      "Epoch 7/30\n",
      "1951/1951 [==============================] - 19s 10ms/step - loss: 0.0034 - acc: 0.9994 - val_loss: 0.2043 - val_acc: 0.9630\n",
      "\n",
      "Epoch 00007: val_acc did not improve from 0.97089\n",
      "Epoch 8/30\n",
      "1951/1951 [==============================] - 19s 10ms/step - loss: 0.0038 - acc: 0.9993 - val_loss: 0.1772 - val_acc: 0.9721\n",
      "\n",
      "Epoch 00008: val_acc improved from 0.97089 to 0.97208, saving model to bert_tagger.h5\n",
      "Epoch 9/30\n",
      "1951/1951 [==============================] - 19s 10ms/step - loss: 0.0014 - acc: 0.9998 - val_loss: 0.1824 - val_acc: 0.9744\n",
      "\n",
      "Epoch 00009: val_acc improved from 0.97208 to 0.97440, saving model to bert_tagger.h5\n",
      "Epoch 10/30\n",
      "1951/1951 [==============================] - 19s 10ms/step - loss: 0.0011 - acc: 0.9998 - val_loss: 0.1866 - val_acc: 0.9718\n",
      "\n",
      "Epoch 00010: val_acc did not improve from 0.97440\n",
      "Epoch 11/30\n",
      "1951/1951 [==============================] - 19s 10ms/step - loss: 7.8762e-04 - acc: 0.9999 - val_loss: 0.1970 - val_acc: 0.9717\n",
      "\n",
      "Epoch 00011: val_acc did not improve from 0.97440\n",
      "Epoch 12/30\n",
      "1951/1951 [==============================] - 19s 10ms/step - loss: 5.2191e-04 - acc: 0.9999 - val_loss: 0.2039 - val_acc: 0.9713\n",
      "\n",
      "Epoch 00012: val_acc did not improve from 0.97440\n",
      "Epoch 13/30\n",
      "1951/1951 [==============================] - 19s 10ms/step - loss: 2.8219e-04 - acc: 0.9999 - val_loss: 0.2116 - val_acc: 0.9726\n",
      "\n",
      "Epoch 00013: val_acc did not improve from 0.97440\n",
      "Epoch 14/30\n",
      "1951/1951 [==============================] - 19s 10ms/step - loss: 4.8439e-04 - acc: 0.9999 - val_loss: 0.2118 - val_acc: 0.9713\n",
      "\n",
      "Epoch 00014: val_acc did not improve from 0.97440\n",
      "Training completed in 298.059595 seconds\n"
     ]
    }
   ],
   "source": [
    "t_ini = datetime.datetime.now()\n",
    "\n",
    "cp = ModelCheckpoint(filepath=\"bert_tagger.h5\",\n",
    "                     monitor='val_acc',\n",
    "                     save_best_only=True,\n",
    "                     save_weights_only=True,\n",
    "                     verbose=1)\n",
    "\n",
    "early_stopping = EarlyStopping(monitor = 'val_acc', patience = 5)\n",
    "\n",
    "history = model.fit([train_input_ids, train_input_masks, train_segment_ids], \n",
    "                    train_labels,\n",
    "                    validation_data=([test_input_ids, test_input_masks, test_segment_ids], test_labels),\n",
    "                    #validation_split=0.3,\n",
    "                    epochs=EPOCHS,\n",
    "                    batch_size=16,\n",
    "                    shuffle=True,\n",
    "                    verbose=1,\n",
    "                    callbacks=[cp, early_stopping]\n",
    "                   ) \n",
    "\n",
    "t_fin = datetime.datetime.now()\n",
    "print('Training completed in {} seconds'.format((t_fin - t_ini).total_seconds()))"
   ]
  },
  {
   "cell_type": "markdown",
   "metadata": {},
   "source": [
    "## Classification report"
   ]
  },
  {
   "cell_type": "code",
   "execution_count": 103,
   "metadata": {
    "nbpresent": {
     "id": "ce12f232-8d4a-4093-9977-88402c6a80f4"
    }
   },
   "outputs": [
    {
     "name": "stdout",
     "output_type": "stream",
     "text": [
      "Trainable weights: 197\n",
      "INFO:tensorflow:Saver not created because there are no variables in the graph to restore\n"
     ]
    },
    {
     "name": "stderr",
     "output_type": "stream",
     "text": [
      "I0527 23:46:49.031078 140718967228160 saver.py:1483] Saver not created because there are no variables in the graph to restore\n"
     ]
    },
    {
     "name": "stdout",
     "output_type": "stream",
     "text": [
      "____________________________________________________________________________________________________\n",
      "Layer (type)                     Output Shape          Param #     Connected to                     \n",
      "====================================================================================================\n",
      "input_ids (InputLayer)           (None, 72)            0                                            \n",
      "____________________________________________________________________________________________________\n",
      "input_masks (InputLayer)         (None, 72)            0                                            \n",
      "____________________________________________________________________________________________________\n",
      "segment_ids (InputLayer)         (None, 72)            0                                            \n",
      "____________________________________________________________________________________________________\n",
      "bert_layer_3 (BertLayer)         (None, None, 768)     110104890   input_ids[0][0]                  \n",
      "                                                                   input_masks[0][0]                \n",
      "                                                                   segment_ids[0][0]                \n",
      "____________________________________________________________________________________________________\n",
      "dense_3 (Dense)                  (None, None, 18)      13842       bert_layer_3[0][0]               \n",
      "====================================================================================================\n",
      "Total params: 110,118,732\n",
      "Trainable params: 108,905,490\n",
      "Non-trainable params: 1,213,242\n",
      "____________________________________________________________________________________________________\n"
     ]
    }
   ],
   "source": [
    "model = build_model(MAX_SEQUENCE_LENGTH+2) \n",
    "model.load_weights('bert_tagger.h5')"
   ]
  },
  {
   "cell_type": "code",
   "execution_count": 104,
   "metadata": {
    "nbpresent": {
     "id": "615aa234-1351-4d3e-84ff-379d1fc4f5cf"
    }
   },
   "outputs": [],
   "source": [
    "y_pred = model.predict([test_input_ids, test_input_masks, test_segment_ids]).argmax(-1)\n",
    "y_true = test_labels.argmax(-1)"
   ]
  },
  {
   "cell_type": "code",
   "execution_count": 105,
   "metadata": {},
   "outputs": [
    {
     "data": {
      "text/plain": [
       "array([ 0,  8, 13, 12,  9, 13,  0,  0,  0,  0,  0,  0,  0,  0,  0,  0,  0,\n",
       "        0,  0,  0,  0,  0,  0,  0,  0,  0,  0,  0,  0,  0,  0,  0,  0,  0,\n",
       "        0,  0,  0,  0,  0,  0,  0,  0,  0,  0,  0,  0,  0,  0,  0,  0,  0,\n",
       "        0,  0,  0,  0,  0,  0,  0,  0,  0,  0,  0,  0,  0,  0,  0,  0,  0,\n",
       "        0,  0,  0,  0])"
      ]
     },
     "execution_count": 105,
     "metadata": {},
     "output_type": "execute_result"
    }
   ],
   "source": [
    "y_true[0]"
   ]
  },
  {
   "cell_type": "code",
   "execution_count": 106,
   "metadata": {
    "nbpresent": {
     "id": "4d68934e-3464-4fa5-bdfe-33f1bee74efc"
    }
   },
   "outputs": [],
   "source": [
    "def y2label(zipped, mask=0):\n",
    "    out_true = []\n",
    "    out_pred = []\n",
    "    for zip_i in zipped:\n",
    "        a, b = tuple(zip_i)\n",
    "        if a != mask :\n",
    "            out_true.append(int2tag[a])\n",
    "            out_pred.append(int2tag[b])\n",
    "    return out_true, out_pred"
   ]
  },
  {
   "cell_type": "code",
   "execution_count": 107,
   "metadata": {
    "nbpresent": {
     "id": "6412a274-6f2e-4c27-9fb2-0fd0916ab42a"
    }
   },
   "outputs": [],
   "source": [
    "y_zipped = zip(y_true.flat, y_pred.flat)\n",
    "y_true, y_pred = y2label(y_zipped)"
   ]
  },
  {
   "cell_type": "code",
   "execution_count": 108,
   "metadata": {},
   "outputs": [
    {
     "data": {
      "text/plain": [
       "(3408, 3408)"
      ]
     },
     "execution_count": 108,
     "metadata": {},
     "output_type": "execute_result"
    }
   ],
   "source": [
    "len(y_true), len(y_pred)"
   ]
  },
  {
   "cell_type": "code",
   "execution_count": 109,
   "metadata": {
    "nbpresent": {
     "id": "0e51f9f4-b16f-4e14-a204-8167e2897848"
    }
   },
   "outputs": [
    {
     "name": "stdout",
     "output_type": "stream",
     "text": [
      "\n",
      "------------ Result of Bert fine-tuned model ----------\n",
      "\n",
      "              precision    recall  f1-score   support\n",
      "\n",
      "         ADJ     0.9217    0.8929    0.9070       224\n",
      "         ADP     0.9698    0.9857    0.9776       488\n",
      "         ADV     0.9597    0.9084    0.9333       131\n",
      "         AUX     0.9957    0.9957    0.9957       234\n",
      "       CCONJ     0.9896    0.9896    0.9896        96\n",
      "         DET     0.9977    1.0000    0.9989       439\n",
      "        INTJ     1.0000    1.0000    1.0000         2\n",
      "        NOUN     0.9699    0.9841    0.9769       753\n",
      "         NUM     0.9385    1.0000    0.9683        61\n",
      "        PART     0.9565    1.0000    0.9778        66\n",
      "        PRON     1.0000    0.9434    0.9709       106\n",
      "       PROPN     0.9625    0.8556    0.9059        90\n",
      "       PUNCT     1.0000    1.0000    1.0000       339\n",
      "       SCONJ     0.9333    0.8235    0.8750        51\n",
      "        VERB     0.9521    0.9755    0.9636       326\n",
      "           X     0.6667    1.0000    0.8000         2\n",
      "\n",
      "   micro avg     0.9727    0.9727    0.9727      3408\n",
      "   macro avg     0.9509    0.9596    0.9525      3408\n",
      "weighted avg     0.9727    0.9727    0.9724      3408\n",
      "\n"
     ]
    }
   ],
   "source": [
    "name='Bert fine-tuned model'\n",
    "print('\\n------------ Result of {} ----------\\n'.format(name))\n",
    "print(classification_report(y_true, y_pred, digits=4))"
   ]
  },
  {
   "cell_type": "code",
   "execution_count": 110,
   "metadata": {
    "nbpresent": {
     "id": "0e51f9f4-b16f-4e14-a204-8167e2897848"
    }
   },
   "outputs": [
    {
     "name": "stdout",
     "output_type": "stream",
     "text": [
      "Accuracy: 0.9727\n",
      "f1-macro score: 0.9525\n"
     ]
    }
   ],
   "source": [
    "print(\"Accuracy: {0:.4f}\".format(accuracy_score(y_true, y_pred)))\n",
    "print('f1-macro score: {0:.4f}'.format(f1_score(y_true, y_pred, average='macro')))"
   ]
  },
  {
   "cell_type": "markdown",
   "metadata": {},
   "source": [
    "## Confusion matrix"
   ]
  },
  {
   "cell_type": "code",
   "execution_count": 111,
   "metadata": {},
   "outputs": [
    {
     "data": {
      "image/png": "[encoded data removed]",
      "text/plain": [
       "<Figure size 720x432 with 2 Axes>"
      ]
     },
     "metadata": {},
     "output_type": "display_data"
    }
   ],
   "source": [
    "tags = sorted(set(y_pred+y_true))\n",
    "cnf_matrix = confusion_matrix(y_true, y_pred)\n",
    "plot_confusion_matrix(f1_score(y_true, y_pred, average='macro'), cnf_matrix, target_names=tags, title=name, normalize=False)"
   ]
  },
  {
   "cell_type": "markdown",
   "metadata": {},
   "source": [
    "## Make a prediction for a test sample:"
   ]
  },
  {
   "cell_type": "code",
   "execution_count": 112,
   "metadata": {},
   "outputs": [],
   "source": [
    "y_pred = model.predict([test_input_ids, test_input_masks, test_segment_ids], batch_size=16).argmax(-1)\n",
    "y_true = test_labels_ids\n",
    "\n",
    "def make_prediction(i=16):\n",
    "    note = ''\n",
    "    sent = []\n",
    "    print(\"{:10} {:5} : {:5}\".format(\"Word\", \"True\", \"Predicted\"))\n",
    "    print(35*'-')\n",
    "    for w, true, pred in zip(test_input_ids[i], y_true[i], y_pred[i]):\n",
    "        if tokenizer.convert_ids_to_tokens([w])[0]!='[PAD]' and \\\n",
    "            tokenizer.convert_ids_to_tokens([w])[0]!='[CLS]' and \\\n",
    "            tokenizer.convert_ids_to_tokens([w])[0]!='[SEP]':\n",
    "            if int2tag[true] != int2tag[pred]: note='<<--- Error!'\n",
    "            print(\"{:10} {:5} : {:5} {:5}\".format(tokenizer.convert_ids_to_tokens([w])[0], int2tag[true], int2tag[pred], note))\n",
    "            note=''"
   ]
  },
  {
   "cell_type": "code",
   "execution_count": 113,
   "metadata": {},
   "outputs": [
    {
     "name": "stdout",
     "output_type": "stream",
     "text": [
      "Word       True  : Predicted\n",
      "-----------------------------------\n",
      "any        DET   : DET        \n",
      "use        NOUN  : NOUN       \n",
      "of         ADP   : ADP        \n",
      "the        DET   : DET        \n",
      "work       NOUN  : NOUN       \n",
      "other      ADJ   : ADJ        \n",
      "than       SCONJ : ADP   <<--- Error!\n",
      "as         ADP   : ADP        \n",
      "authorized VERB  : VERB       \n",
      "under      ADP   : ADP        \n",
      "this       DET   : DET        \n",
      "license    NOUN  : NOUN       \n",
      "or         CCONJ : CCONJ      \n",
      "copyright  NOUN  : NOUN       \n",
      "law        NOUN  : NOUN       \n",
      "is         AUX   : AUX        \n",
      "prohibited VERB  : VERB       \n",
      ".          PUNCT : PUNCT      \n"
     ]
    }
   ],
   "source": [
    "make_prediction(i=1)"
   ]
  },
  {
   "cell_type": "markdown",
   "metadata": {},
   "source": [
    "## Tag an unknown sentence"
   ]
  },
  {
   "cell_type": "code",
   "execution_count": 114,
   "metadata": {},
   "outputs": [],
   "source": [
    "sentence_raw = 'Word embeddings provide a dense representation of words and their relative meanings.'"
   ]
  },
  {
   "cell_type": "code",
   "execution_count": 115,
   "metadata": {},
   "outputs": [],
   "source": [
    "sentence_ini = nltk.word_tokenize(sentence_raw.lower())"
   ]
  },
  {
   "cell_type": "markdown",
   "metadata": {},
   "source": [
    "Convert the sentence to BERT representation:"
   ]
  },
  {
   "cell_type": "code",
   "execution_count": 116,
   "metadata": {},
   "outputs": [],
   "source": [
    "sentence_bert = tokenizer.tokenize(sentence_raw)"
   ]
  },
  {
   "cell_type": "code",
   "execution_count": 117,
   "metadata": {},
   "outputs": [],
   "source": [
    "tokens_a = sentence_ini"
   ]
  },
  {
   "cell_type": "code",
   "execution_count": 118,
   "metadata": {},
   "outputs": [],
   "source": [
    "orig_to_tok_map = []              \n",
    "tokens = []\n",
    "segment_ids = []\n",
    "tokens.append(\"[CLS]\")\n",
    "segment_ids.append(0)\n",
    "orig_to_tok_map.append(len(tokens)-1)\n",
    "for token in tokens_a:\n",
    "    #orig_to_tok_map.append(len(tokens)) # keep first piece of tokenized term\n",
    "    tokens.extend(tokenizer.tokenize(token))\n",
    "    orig_to_tok_map.append(len(tokens)-1) # # keep last piece of tokenized term -->> gives better results!\n",
    "    segment_ids.append(0)\n",
    "tokens.append(\"[SEP]\")\n",
    "segment_ids.append(0)\n",
    "orig_to_tok_map.append(len(tokens)-1)\n",
    "input_ids = tokenizer.convert_tokens_to_ids([tokens[i] for i in orig_to_tok_map])"
   ]
  },
  {
   "cell_type": "code",
   "execution_count": 119,
   "metadata": {
    "nbpresent": {
     "id": "b31bd2f4-6a3b-4836-888a-5362ebdbc492"
    }
   },
   "outputs": [
    {
     "name": "stdout",
     "output_type": "stream",
     "text": [
      "Original tokens: ['word', 'embeddings', 'provide', 'a', 'dense', 'representation', 'of', 'words', 'and', 'their', 'relative', 'meanings', '.']\n"
     ]
    }
   ],
   "source": [
    "print('Original tokens:',tokens_a)"
   ]
  },
  {
   "cell_type": "code",
   "execution_count": 120,
   "metadata": {
    "nbpresent": {
     "id": "b31bd2f4-6a3b-4836-888a-5362ebdbc492"
    }
   },
   "outputs": [
    {
     "name": "stdout",
     "output_type": "stream",
     "text": [
      "BERT tokens: ['[CLS]', 'word', 'em', '##bed', '##ding', '##s', 'provide', 'a', 'dense', 'representation', 'of', 'words', 'and', 'their', 'relative', 'meanings', '.', '[SEP]']\n"
     ]
    }
   ],
   "source": [
    "print('BERT tokens:',tokens)"
   ]
  },
  {
   "cell_type": "code",
   "execution_count": 121,
   "metadata": {},
   "outputs": [
    {
     "data": {
      "text/plain": [
       "[0, 1, 5, 6, 7, 8, 9, 10, 11, 12, 13, 14, 15, 16, 17]"
      ]
     },
     "execution_count": 121,
     "metadata": {},
     "output_type": "execute_result"
    }
   ],
   "source": [
    "orig_to_tok_map"
   ]
  },
  {
   "cell_type": "code",
   "execution_count": 122,
   "metadata": {},
   "outputs": [
    {
     "data": {
      "text/plain": [
       "['[CLS]',\n",
       " 'word',\n",
       " '##s',\n",
       " 'provide',\n",
       " 'a',\n",
       " 'dense',\n",
       " 'representation',\n",
       " 'of',\n",
       " 'words',\n",
       " 'and',\n",
       " 'their',\n",
       " 'relative',\n",
       " 'meanings',\n",
       " '.',\n",
       " '[SEP]']"
      ]
     },
     "execution_count": 122,
     "metadata": {},
     "output_type": "execute_result"
    }
   ],
   "source": [
    "[tokens[i] for i in orig_to_tok_map]"
   ]
  },
  {
   "cell_type": "code",
   "execution_count": 123,
   "metadata": {
    "nbpresent": {
     "id": "eb4915fc-babf-4bf9-8789-ab05ef24be45"
    }
   },
   "outputs": [],
   "source": [
    "# Convert data to InputExample format\n",
    "test_example = convert_text_to_examples([sentence_ini], [['-PAD-']*len(sentence_ini)])"
   ]
  },
  {
   "cell_type": "code",
   "execution_count": 124,
   "metadata": {
    "nbpresent": {
     "id": "4f427047-23e0-4dd4-b8b7-333c93eb88ce"
    }
   },
   "outputs": [
    {
     "data": {
      "text/plain": [
       "HBox(children=(IntProgress(value=0, description='Converting examples to features', max=1, style=ProgressStyle(…"
      ]
     },
     "metadata": {},
     "output_type": "display_data"
    },
    {
     "name": "stdout",
     "output_type": "stream",
     "text": [
      "\n"
     ]
    }
   ],
   "source": [
    "# Convert to features\n",
    "(input_ids, input_masks, segment_ids, _\n",
    ") = convert_examples_to_features(tokenizer, test_example, max_seq_length=MAX_SEQUENCE_LENGTH+2)"
   ]
  },
  {
   "cell_type": "code",
   "execution_count": 125,
   "metadata": {},
   "outputs": [
    {
     "name": "stdout",
     "output_type": "stream",
     "text": [
      "\n",
      "Word in BERT layer  | Initial word   : Predicted POS-tag\n",
      "-------------------------------------------------------------\n",
      "word                | word           : NOUN           \n",
      "##s                 | embeddings     : NOUN           \n",
      "provide             | provide        : VERB           \n",
      "a                   | a              : DET            \n",
      "dense               | dense          : ADJ            \n",
      "representation      | representation : NOUN           \n",
      "of                  | of             : ADP            \n",
      "words               | words          : NOUN           \n",
      "and                 | and            : CCONJ          \n",
      "their               | their          : DET            \n",
      "relative            | relative       : ADJ            \n",
      "meanings            | meanings       : NOUN           \n",
      ".                   | .              : PUNCT          \n"
     ]
    }
   ],
   "source": [
    "predictions = model.predict([input_ids, input_masks, segment_ids], batch_size=1).argmax(-1)[0]\n",
    "print(\"\\n{:20}| {:15}: {:15}\".format(\"Word in BERT layer\", 'Initial word', \"Predicted POS-tag\"))\n",
    "print(61*'-')\n",
    "k = 0\n",
    "for i, pred in enumerate(predictions):\n",
    "    try:\n",
    "        if pred!=0:\n",
    "            print(\"{:20}| {:15}: {:15}\".format([tokens[i] for i in orig_to_tok_map][i], sentence_ini[i-1], int2tag[pred]))            \n",
    "            k+=1            \n",
    "    except:\n",
    "        pass"
   ]
  },
  {
   "cell_type": "markdown",
   "metadata": {},
   "source": [
    "## Frequent types of mistakes"
   ]
  },
  {
   "cell_type": "code",
   "execution_count": 126,
   "metadata": {},
   "outputs": [],
   "source": [
    "def find_errors(X,y):\n",
    "    error_counter = collections.Counter()\n",
    "    support = 0\n",
    "    for i in range(test_input_ids.shape[0]):\n",
    "        for w, true, pred in zip(test_input_ids[i], y_true[i], y_pred[i]):\n",
    "            if int2tag[true]!='-PAD-':\n",
    "                if true != pred:\n",
    "                    word = tokenizer.convert_ids_to_tokens([w])[0]\n",
    "                    error_counter[word] += 1\n",
    "                support += 1\n",
    "    return error_counter, support"
   ]
  },
  {
   "cell_type": "code",
   "execution_count": 127,
   "metadata": {},
   "outputs": [],
   "source": [
    "errors, support = find_errors([test_input_ids],y_true)"
   ]
  },
  {
   "cell_type": "code",
   "execution_count": 128,
   "metadata": {},
   "outputs": [
    {
     "name": "stdout",
     "output_type": "stream",
     "text": [
      "Total errors/Total words: 93/3408 | Accuracy: 0.9727\n",
      "\n",
      "Most common errors: [('as', 8), ('appointed', 5), ('to', 4), ('part', 3), ('justice', 3), ('general', 3), ('than', 2), ('contracting', 2), ('base', 2), ('around', 2), ('##s', 1), ('##r', 1), ('is', 1), ('that', 1), ('time', 1), ('set', 1), ('interested', 1), ('traveling', 1), ('japanese', 1), ('by', 1)]\n"
     ]
    }
   ],
   "source": [
    "print('Total errors/Total words: {}/{} | Accuracy: {:.4}\\n'.format(sum(errors.values()), support, 1-sum(errors.values())/support))\n",
    "print('Most common errors:', errors.most_common(20))"
   ]
  },
  {
   "cell_type": "markdown",
   "metadata": {},
   "source": [
    "## Learning curves"
   ]
  },
  {
   "cell_type": "code",
   "execution_count": 104,
   "metadata": {},
   "outputs": [
    {
     "data": {
      "image/png": "[encoded data removed]",
      "text/plain": [
       "<Figure size 432x288 with 1 Axes>"
      ]
     },
     "metadata": {},
     "output_type": "display_data"
    }
   ],
   "source": [
    "plot_acc()"
   ]
  },
  {
   "cell_type": "code",
   "execution_count": 105,
   "metadata": {},
   "outputs": [
    {
     "data": {
      "image/png": "[encoded data removed]",
      "text/plain": [
       "<Figure size 432x288 with 1 Axes>"
      ]
     },
     "metadata": {},
     "output_type": "display_data"
    }
   ],
   "source": [
    "plot_loss()"
   ]
  }
 ],
 "metadata": {
  "kernelspec": {
   "display_name": "Python 3",
   "language": "python",
   "name": "python3"
  },
  "language_info": {
   "codemirror_mode": {
    "name": "ipython",
    "version": 3
   },
   "file_extension": ".py",
   "mimetype": "text/x-python",
   "name": "python",
   "nbconvert_exporter": "python",
   "pygments_lexer": "ipython3",
   "version": "3.6.3"
  }
 },
 "nbformat": 4,
 "nbformat_minor": 2
}
