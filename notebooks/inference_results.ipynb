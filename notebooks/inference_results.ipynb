{
 "cells": [
  {
   "cell_type": "code",
   "execution_count": 33,
   "metadata": {},
   "outputs": [],
   "source": [
    "import numpy as np\n",
    "import scipy.stats\n",
    "import matplotlib.pyplot as plt\n",
    "import os\n",
    "import statistics\n",
    "import math"
   ]
  },
  {
   "cell_type": "code",
   "execution_count": 1,
   "metadata": {},
   "outputs": [],
   "source": [
    "file_path = '/Users/alicemartin/000_Boulot_Polytechnique/07_PhD_thesis/code/SMC-T/output/post_UAI_exp/results_ws155_632020/time_series_multi_synthetic_heads_2_depth_6_dff_24_pos-enc_50_pdrop_0_b_256_target-feat_0_cv_False__particles_1_noise_False_sigma_0.05/inference_results/num-timesteps_4_p_inf_10_N_10_N-est_5000_sigma_0.05_omega_0.3'"
   ]
  },
  {
   "cell_type": "markdown",
   "metadata": {},
   "source": [
    "### upload numpy arrays (predicted gaussian means and true gaussian mean)"
   ]
  },
  {
   "cell_type": "code",
   "execution_count": 24,
   "metadata": {},
   "outputs": [],
   "source": [
    "preds_gaussian_means_path = os.path.join(file_path, 'pred_gaussian_means_per_timestep.npy')\n",
    "true_gaussian_mean_path = os.path.join(file_path, 'true_gaussian_means.npy')\n",
    "sampling_weights_path = os.path.join(file_path, 'sampling_weights.npy')\n",
    "sampled_pred_distrib_path = os.path.join(file_path, 'preds_sampled_per_timestep.npy')\n",
    "true_emp_distrib_path = os.path.join(file_path, 'true_empirical_distrib.npy')\n",
    "\n",
    "preds_gaussian_means = np.load(preds_gaussian_means_path) # (num_timesteps, B, N, P, 1)\n",
    "true_gaussian_mean = np.load(true_gaussian_mean_path) # (num_timesteps, B, F)\n",
    "sampling_weights = np.load(sampling_weights_path)\n",
    "sampled_pred_distrib = np.load(sampled_pred_distrib_path)\n",
    "true_emp_distrib = np.load(true_emp_distrib_path)\n",
    "\n",
    "# take the first feature of the true gaussian mean\n",
    "true_gaussian_mean = true_gaussian_mean[:,:,0] # (num_timesteps, B)"
   ]
  },
  {
   "cell_type": "code",
   "execution_count": 25,
   "metadata": {},
   "outputs": [
    {
     "name": "stdout",
     "output_type": "stream",
     "text": [
      "predicted gaussian means (4, 5000, 10, 10, 1)\n",
      "true_gaussian_mean (4, 5000)\n"
     ]
    }
   ],
   "source": [
    "print('predicted gaussian means', preds_gaussian_means.shape)\n",
    "print('true_gaussian_mean', true_gaussian_mean.shape)"
   ]
  },
  {
   "cell_type": "code",
   "execution_count": 26,
   "metadata": {},
   "outputs": [],
   "source": [
    "omega_preds = 0.3\n",
    "omega_true_distrib = 0.2"
   ]
  },
  {
   "cell_type": "markdown",
   "metadata": {},
   "source": [
    "### plot function for the predicted and true pdf\n",
    "* https://docs.scipy.org/doc/scipy/reference/generated/scipy.stats.norm.html"
   ]
  },
  {
   "cell_type": "code",
   "execution_count": 36,
   "metadata": {},
   "outputs": [],
   "source": [
    "def compute_mixture_gaussian_pdf(x, pred_means, omega_preds, sampling_weights):\n",
    "    '''\n",
    "    x: numpy array of shape (num_samples,)\n",
    "    pred_means: numpy array of shape (batch_size, num MC samples, num particles, 1)\n",
    "    omega_preds: scalar for the covariance value. \n",
    "    -sampling weights: numpy array of shape (batch_size, num_particle)\n",
    "    '''\n",
    "    pdf = np.exp(-(x-pred_means)^2/omega_preds)/ ((2*math.pi)^(1/2)*omega_preds)"
   ]
  },
  {
   "cell_type": "code",
   "execution_count": 37,
   "metadata": {},
   "outputs": [
    {
     "ename": "TypeError",
     "evalue": "ufunc 'bitwise_xor' not supported for the input types, and the inputs could not be safely coerced to any supported types according to the casting rule ''safe''",
     "output_type": "error",
     "traceback": [
      "\u001b[0;31m---------------------------------------------------------------------------\u001b[0m",
      "\u001b[0;31mTypeError\u001b[0m                                 Traceback (most recent call last)",
      "\u001b[0;32m<ipython-input-37-3f4dfd0f26fa>\u001b[0m in \u001b[0;36m<module>\u001b[0;34m()\u001b[0m\n\u001b[1;32m      4\u001b[0m \u001b[0msampling_weight\u001b[0m\u001b[0;34m=\u001b[0m \u001b[0msampling_weights\u001b[0m\u001b[0;34m[\u001b[0m\u001b[0;36m0\u001b[0m\u001b[0;34m,\u001b[0m\u001b[0;34m:\u001b[0m\u001b[0;34m]\u001b[0m\u001b[0;34m\u001b[0m\u001b[0m\n\u001b[1;32m      5\u001b[0m \u001b[0mpred_means\u001b[0m \u001b[0;34m=\u001b[0m \u001b[0mpreds_gaussian_means\u001b[0m\u001b[0;34m[\u001b[0m\u001b[0;36m0\u001b[0m\u001b[0;34m,\u001b[0m \u001b[0;36m0\u001b[0m\u001b[0;34m,\u001b[0m \u001b[0;34m:\u001b[0m\u001b[0;34m,\u001b[0m \u001b[0;34m:\u001b[0m\u001b[0;34m,\u001b[0m \u001b[0;34m:\u001b[0m\u001b[0;34m]\u001b[0m\u001b[0;34m\u001b[0m\u001b[0m\n\u001b[0;32m----> 6\u001b[0;31m \u001b[0mcompute_mixture_gaussian_pdf\u001b[0m\u001b[0;34m(\u001b[0m\u001b[0mx\u001b[0m\u001b[0;34m,\u001b[0m \u001b[0mpred_means\u001b[0m\u001b[0;34m,\u001b[0m \u001b[0momega_preds\u001b[0m\u001b[0;34m,\u001b[0m \u001b[0msampling_weight\u001b[0m\u001b[0;34m)\u001b[0m\u001b[0;34m\u001b[0m\u001b[0m\n\u001b[0m",
      "\u001b[0;32m<ipython-input-36-56c701de38b4>\u001b[0m in \u001b[0;36mcompute_mixture_gaussian_pdf\u001b[0;34m(x, pred_means, omega_preds, sampling_weights)\u001b[0m\n\u001b[1;32m      6\u001b[0m     \u001b[0;34m-\u001b[0m\u001b[0msampling\u001b[0m \u001b[0mweights\u001b[0m\u001b[0;34m:\u001b[0m \u001b[0mnumpy\u001b[0m \u001b[0marray\u001b[0m \u001b[0mof\u001b[0m \u001b[0mshape\u001b[0m \u001b[0;34m(\u001b[0m\u001b[0mbatch_size\u001b[0m\u001b[0;34m,\u001b[0m \u001b[0mnum_particle\u001b[0m\u001b[0;34m)\u001b[0m\u001b[0;34m\u001b[0m\u001b[0m\n\u001b[1;32m      7\u001b[0m     '''\n\u001b[0;32m----> 8\u001b[0;31m     \u001b[0mpdf\u001b[0m \u001b[0;34m=\u001b[0m \u001b[0mnp\u001b[0m\u001b[0;34m.\u001b[0m\u001b[0mexp\u001b[0m\u001b[0;34m(\u001b[0m\u001b[0;34m-\u001b[0m\u001b[0;34m(\u001b[0m\u001b[0mx\u001b[0m\u001b[0;34m-\u001b[0m\u001b[0mpred_means\u001b[0m\u001b[0;34m)\u001b[0m\u001b[0;34m^\u001b[0m\u001b[0;36m2\u001b[0m\u001b[0;34m/\u001b[0m\u001b[0momega_preds\u001b[0m\u001b[0;34m)\u001b[0m\u001b[0;34m/\u001b[0m \u001b[0;34m(\u001b[0m\u001b[0;34m(\u001b[0m\u001b[0;36m2\u001b[0m\u001b[0;34m*\u001b[0m\u001b[0mmath\u001b[0m\u001b[0;34m.\u001b[0m\u001b[0mpi\u001b[0m\u001b[0;34m)\u001b[0m\u001b[0;34m^\u001b[0m\u001b[0;34m(\u001b[0m\u001b[0;36m1\u001b[0m\u001b[0;34m/\u001b[0m\u001b[0;36m2\u001b[0m\u001b[0;34m)\u001b[0m\u001b[0;34m*\u001b[0m\u001b[0momega_preds\u001b[0m\u001b[0;34m)\u001b[0m\u001b[0;34m\u001b[0m\u001b[0m\n\u001b[0m",
      "\u001b[0;31mTypeError\u001b[0m: ufunc 'bitwise_xor' not supported for the input types, and the inputs could not be safely coerced to any supported types according to the casting rule ''safe''"
     ]
    }
   ],
   "source": [
    "omega_preds = 3\n",
    "true_mean = true_gaussian_mean[0, 0]\n",
    "x = np.linspace(start=true_mean-5*omega_preds, stop = true_mean+5*omega_preds)\n",
    "sampling_weight= sampling_weights[0,:]\n",
    "pred_means = preds_gaussian_means[0, 0, :, :, :]\n",
    "compute_mixture_gaussian_pdf(x, pred_means, omega_preds, sampling_weight)"
   ]
  },
  {
   "cell_type": "code",
   "execution_count": 31,
   "metadata": {},
   "outputs": [],
   "source": [
    "def plot_one_timestep(pred_means, true_means, sampling_weights, omega_preds, omega_true_distrib, seed='123'):\n",
    "    '''\n",
    "    args:\n",
    "        -pred_means: numpy array of shape (batch_size, num MC samples, num particles, 1)\n",
    "        -true_means: numpy array of shape (batch_size)\n",
    "        -sampling weights: numpy array of shape (batch_size, num_particle)\n",
    "    '''\n",
    "    np.random.seed = seed\n",
    "    N = pred_means.shape[1]\n",
    "    P = pred_means.shape[2]\n",
    "    # draw a sample among the samples of the test set:\n",
    "    batch_size = pred_means.shape[0]\n",
    "    index = np.random.randint(low=0, high=batch_size)\n",
    "    pred_means = pred_means[index, :, :, :].reshape(N,P)\n",
    "    true_mean = true_means[index]\n",
    "    print('true mean', true_mean)\n",
    "    sampling_weights = sampling_weights[index, :]\n",
    "    \n",
    "    fig, ax = plt.subplots(1, 1)\n",
    "    x = np.linspace(start=true_mean-5*omega_preds, stop = true_mean+5*omega_preds)\n",
    "    print('x', x.shape)\n",
    "    # compute pdf:\n",
    "    pdf_P = np.zeros(shape=P)\n",
    "    for p in range(P):\n",
    "        mean_p = pred_means[:,p]\n",
    "        list_pdf = [scipy.stats.norm.pdf(x, loc=mean_p[n], scale=omega_preds) for n in range(N)] #TODO: compute manually the function instead. \n",
    "        print('number of n pdf', len(list_pdf))\n",
    "        print('example of pdf', list_pdf[0])\n",
    "        mean_pdf_N = statistics.mean(list_pdf)\n",
    "        print('pdf for particle number: {}'.format(mean_pdf_N))\n",
    "        pdf[p] = mean_pdf_N\n",
    "    pdf = np.dot(sampling_weights, pdf_P)\n",
    "    print('final mixture of gaussian', pdf)"
   ]
  },
  {
   "cell_type": "code",
   "execution_count": 32,
   "metadata": {},
   "outputs": [
    {
     "name": "stdout",
     "output_type": "stream",
     "text": [
      "true mean 1.3951117\n",
      "x (50,)\n",
      "number of n pdf 10\n",
      "example of pdf [4.20802166e-06 1.15101590e-05 3.01992816e-05 7.60017923e-05\n",
      " 1.83469125e-04 4.24828925e-04 9.43576467e-04 2.01025919e-03\n",
      " 4.10808050e-03 8.05263042e-03 1.51407895e-02 2.73068253e-02\n",
      " 4.72395588e-02 7.83885061e-02 1.24770202e-01 1.90493999e-01\n",
      " 2.78973951e-01 3.91884369e-01 5.28036767e-01 6.82468040e-01\n",
      " 8.46081903e-01 1.00613076e+00 1.14764715e+00 1.25566639e+00\n",
      " 1.31780785e+00 1.32660566e+00 1.28098349e+00 1.18647107e+00\n",
      " 1.05410217e+00 8.98297512e-01 7.34293389e-01 5.75746057e-01\n",
      " 4.33016315e-01 3.12384503e-01 2.16165626e-01 1.43481438e-01\n",
      " 9.13517229e-02 5.57891438e-02 3.26809433e-02 1.83633285e-02\n",
      " 9.89737802e-03 5.11682831e-03 2.53742647e-03 1.20697429e-03\n",
      " 5.50699276e-04 2.41014364e-04 1.01177345e-04 4.07413641e-05\n",
      " 1.57361971e-05 5.83009913e-06]\n"
     ]
    },
    {
     "ename": "TypeError",
     "evalue": "can't convert type 'ndarray' to numerator/denominator",
     "output_type": "error",
     "traceback": [
      "\u001b[0;31m---------------------------------------------------------------------------\u001b[0m",
      "\u001b[0;31mTypeError\u001b[0m                                 Traceback (most recent call last)",
      "\u001b[0;32m<ipython-input-32-b8a75f2ab223>\u001b[0m in \u001b[0;36m<module>\u001b[0;34m()\u001b[0m\n\u001b[1;32m      3\u001b[0m \u001b[0;34m\u001b[0m\u001b[0m\n\u001b[1;32m      4\u001b[0m plot_one_timestep(pred_means=pred_means_t0, true_means=true_mean_t0, sampling_weights=sampling_weights, omega_preds=0.3, \n\u001b[0;32m----> 5\u001b[0;31m                   omega_true_distrib=0.2)\n\u001b[0m",
      "\u001b[0;32m<ipython-input-31-0e55255a099f>\u001b[0m in \u001b[0;36mplot_one_timestep\u001b[0;34m(pred_means, true_means, sampling_weights, omega_preds, omega_true_distrib, seed)\u001b[0m\n\u001b[1;32m     27\u001b[0m         \u001b[0mprint\u001b[0m\u001b[0;34m(\u001b[0m\u001b[0;34m'number of n pdf'\u001b[0m\u001b[0;34m,\u001b[0m \u001b[0mlen\u001b[0m\u001b[0;34m(\u001b[0m\u001b[0mlist_pdf\u001b[0m\u001b[0;34m)\u001b[0m\u001b[0;34m)\u001b[0m\u001b[0;34m\u001b[0m\u001b[0m\n\u001b[1;32m     28\u001b[0m         \u001b[0mprint\u001b[0m\u001b[0;34m(\u001b[0m\u001b[0;34m'example of pdf'\u001b[0m\u001b[0;34m,\u001b[0m \u001b[0mlist_pdf\u001b[0m\u001b[0;34m[\u001b[0m\u001b[0;36m0\u001b[0m\u001b[0;34m]\u001b[0m\u001b[0;34m)\u001b[0m\u001b[0;34m\u001b[0m\u001b[0m\n\u001b[0;32m---> 29\u001b[0;31m         \u001b[0mmean_pdf_N\u001b[0m \u001b[0;34m=\u001b[0m \u001b[0mstatistics\u001b[0m\u001b[0;34m.\u001b[0m\u001b[0mmean\u001b[0m\u001b[0;34m(\u001b[0m\u001b[0mlist_pdf\u001b[0m\u001b[0;34m)\u001b[0m\u001b[0;34m\u001b[0m\u001b[0m\n\u001b[0m\u001b[1;32m     30\u001b[0m         \u001b[0mprint\u001b[0m\u001b[0;34m(\u001b[0m\u001b[0;34m'pdf for particle number: {}'\u001b[0m\u001b[0;34m.\u001b[0m\u001b[0mformat\u001b[0m\u001b[0;34m(\u001b[0m\u001b[0mmean_pdf_N\u001b[0m\u001b[0;34m)\u001b[0m\u001b[0;34m)\u001b[0m\u001b[0;34m\u001b[0m\u001b[0m\n\u001b[1;32m     31\u001b[0m         \u001b[0mpdf\u001b[0m\u001b[0;34m[\u001b[0m\u001b[0mp\u001b[0m\u001b[0;34m]\u001b[0m \u001b[0;34m=\u001b[0m \u001b[0mmean_pdf_N\u001b[0m\u001b[0;34m\u001b[0m\u001b[0m\n",
      "\u001b[0;32m/anaconda3/lib/python3.6/statistics.py\u001b[0m in \u001b[0;36mmean\u001b[0;34m(data)\u001b[0m\n\u001b[1;32m    310\u001b[0m     \u001b[0;32mif\u001b[0m \u001b[0mn\u001b[0m \u001b[0;34m<\u001b[0m \u001b[0;36m1\u001b[0m\u001b[0;34m:\u001b[0m\u001b[0;34m\u001b[0m\u001b[0m\n\u001b[1;32m    311\u001b[0m         \u001b[0;32mraise\u001b[0m \u001b[0mStatisticsError\u001b[0m\u001b[0;34m(\u001b[0m\u001b[0;34m'mean requires at least one data point'\u001b[0m\u001b[0;34m)\u001b[0m\u001b[0;34m\u001b[0m\u001b[0m\n\u001b[0;32m--> 312\u001b[0;31m     \u001b[0mT\u001b[0m\u001b[0;34m,\u001b[0m \u001b[0mtotal\u001b[0m\u001b[0;34m,\u001b[0m \u001b[0mcount\u001b[0m \u001b[0;34m=\u001b[0m \u001b[0m_sum\u001b[0m\u001b[0;34m(\u001b[0m\u001b[0mdata\u001b[0m\u001b[0;34m)\u001b[0m\u001b[0;34m\u001b[0m\u001b[0m\n\u001b[0m\u001b[1;32m    313\u001b[0m     \u001b[0;32massert\u001b[0m \u001b[0mcount\u001b[0m \u001b[0;34m==\u001b[0m \u001b[0mn\u001b[0m\u001b[0;34m\u001b[0m\u001b[0m\n\u001b[1;32m    314\u001b[0m     \u001b[0;32mreturn\u001b[0m \u001b[0m_convert\u001b[0m\u001b[0;34m(\u001b[0m\u001b[0mtotal\u001b[0m\u001b[0;34m/\u001b[0m\u001b[0mn\u001b[0m\u001b[0;34m,\u001b[0m \u001b[0mT\u001b[0m\u001b[0;34m)\u001b[0m\u001b[0;34m\u001b[0m\u001b[0m\n",
      "\u001b[0;32m/anaconda3/lib/python3.6/statistics.py\u001b[0m in \u001b[0;36m_sum\u001b[0;34m(data, start)\u001b[0m\n\u001b[1;32m    146\u001b[0m     \u001b[0;32mfor\u001b[0m \u001b[0mtyp\u001b[0m\u001b[0;34m,\u001b[0m \u001b[0mvalues\u001b[0m \u001b[0;32min\u001b[0m \u001b[0mgroupby\u001b[0m\u001b[0;34m(\u001b[0m\u001b[0mdata\u001b[0m\u001b[0;34m,\u001b[0m \u001b[0mtype\u001b[0m\u001b[0;34m)\u001b[0m\u001b[0;34m:\u001b[0m\u001b[0;34m\u001b[0m\u001b[0m\n\u001b[1;32m    147\u001b[0m         \u001b[0mT\u001b[0m \u001b[0;34m=\u001b[0m \u001b[0m_coerce\u001b[0m\u001b[0;34m(\u001b[0m\u001b[0mT\u001b[0m\u001b[0;34m,\u001b[0m \u001b[0mtyp\u001b[0m\u001b[0;34m)\u001b[0m  \u001b[0;31m# or raise TypeError\u001b[0m\u001b[0;34m\u001b[0m\u001b[0m\n\u001b[0;32m--> 148\u001b[0;31m         \u001b[0;32mfor\u001b[0m \u001b[0mn\u001b[0m\u001b[0;34m,\u001b[0m\u001b[0md\u001b[0m \u001b[0;32min\u001b[0m \u001b[0mmap\u001b[0m\u001b[0;34m(\u001b[0m\u001b[0m_exact_ratio\u001b[0m\u001b[0;34m,\u001b[0m \u001b[0mvalues\u001b[0m\u001b[0;34m)\u001b[0m\u001b[0;34m:\u001b[0m\u001b[0;34m\u001b[0m\u001b[0m\n\u001b[0m\u001b[1;32m    149\u001b[0m             \u001b[0mcount\u001b[0m \u001b[0;34m+=\u001b[0m \u001b[0;36m1\u001b[0m\u001b[0;34m\u001b[0m\u001b[0m\n\u001b[1;32m    150\u001b[0m             \u001b[0mpartials\u001b[0m\u001b[0;34m[\u001b[0m\u001b[0md\u001b[0m\u001b[0;34m]\u001b[0m \u001b[0;34m=\u001b[0m \u001b[0mpartials_get\u001b[0m\u001b[0;34m(\u001b[0m\u001b[0md\u001b[0m\u001b[0;34m,\u001b[0m \u001b[0;36m0\u001b[0m\u001b[0;34m)\u001b[0m \u001b[0;34m+\u001b[0m \u001b[0mn\u001b[0m\u001b[0;34m\u001b[0m\u001b[0m\n",
      "\u001b[0;32m/anaconda3/lib/python3.6/statistics.py\u001b[0m in \u001b[0;36m_exact_ratio\u001b[0;34m(x)\u001b[0m\n\u001b[1;32m    228\u001b[0m         \u001b[0;32mreturn\u001b[0m \u001b[0;34m(\u001b[0m\u001b[0mx\u001b[0m\u001b[0;34m,\u001b[0m \u001b[0;32mNone\u001b[0m\u001b[0;34m)\u001b[0m\u001b[0;34m\u001b[0m\u001b[0m\n\u001b[1;32m    229\u001b[0m     \u001b[0mmsg\u001b[0m \u001b[0;34m=\u001b[0m \u001b[0;34m\"can't convert type '{}' to numerator/denominator\"\u001b[0m\u001b[0;34m\u001b[0m\u001b[0m\n\u001b[0;32m--> 230\u001b[0;31m     \u001b[0;32mraise\u001b[0m \u001b[0mTypeError\u001b[0m\u001b[0;34m(\u001b[0m\u001b[0mmsg\u001b[0m\u001b[0;34m.\u001b[0m\u001b[0mformat\u001b[0m\u001b[0;34m(\u001b[0m\u001b[0mtype\u001b[0m\u001b[0;34m(\u001b[0m\u001b[0mx\u001b[0m\u001b[0;34m)\u001b[0m\u001b[0;34m.\u001b[0m\u001b[0m__name__\u001b[0m\u001b[0;34m)\u001b[0m\u001b[0;34m)\u001b[0m\u001b[0;34m\u001b[0m\u001b[0m\n\u001b[0m\u001b[1;32m    231\u001b[0m \u001b[0;34m\u001b[0m\u001b[0m\n\u001b[1;32m    232\u001b[0m \u001b[0;34m\u001b[0m\u001b[0m\n",
      "\u001b[0;31mTypeError\u001b[0m: can't convert type 'ndarray' to numerator/denominator"
     ]
    },
    {
     "data": {
      "image/png": "[encoded data removed]",
      "text/plain": [
       "<Figure size 432x288 with 1 Axes>"
      ]
     },
     "metadata": {},
     "output_type": "display_data"
    }
   ],
   "source": [
    "pred_means_t0 = preds_gaussian_means[0, :, :, :]\n",
    "true_mean_t0 = true_gaussian_mean[0, :]\n",
    "\n",
    "plot_one_timestep(pred_means=pred_means_t0, true_means=true_mean_t0, sampling_weights=sampling_weights, omega_preds=0.3, \n",
    "                  omega_true_distrib=0.2)"
   ]
  },
  {
   "cell_type": "code",
   "execution_count": null,
   "metadata": {},
   "outputs": [],
   "source": []
  }
 ],
 "metadata": {
  "kernelspec": {
   "display_name": "Python 3",
   "language": "python",
   "name": "python3"
  },
  "language_info": {
   "codemirror_mode": {
    "name": "ipython",
    "version": 3
   },
   "file_extension": ".py",
   "mimetype": "text/x-python",
   "name": "python",
   "nbconvert_exporter": "python",
   "pygments_lexer": "ipython3",
   "version": "3.6.4"
  }
 },
 "nbformat": 4,
 "nbformat_minor": 2
}
